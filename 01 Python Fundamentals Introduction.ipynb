{
 "cells": [
  {
   "cell_type": "markdown",
   "id": "fc74f719-fbac-4307-add7-88cb6162cbad",
   "metadata": {},
   "source": [
    "# Python Introduction\n",
    "_Liubov Koliasa, León Jaramillo_ at __[SoftServe](https://www.softserveinc.com/en-us)__\n",
    "<br>Not sure how to use Jupyter Notebooks? Watch __[this video](https://www.youtube.com/watch?v=IMrxB8Mq5KU)__. In case you want to know why or when to choose between them and classic scripting, watch __[this one](https://www.youtube.com/watch?v=0Jw8seqai18)__."
   ]
  },
  {
   "cell_type": "markdown",
   "id": "d80825d1-a9f3-4ff3-96c6-1b72d71891aa",
   "metadata": {},
   "source": [
    "## Learning Goals\n",
    "- To know what is Python and how to use it.\n",
    "- To learn the fundamentals of Python syntax.\n",
    "- To grasp what are variables in Python.\n",
    "- To know input/output (I/O) Python statements."
   ]
  },
  {
   "cell_type": "markdown",
   "id": "0d5945a5-9ebc-4030-acc5-5e771c80e993",
   "metadata": {},
   "source": [
    "\n",
    "## What is Python?\n",
    "- **Python** was created by __[Guido van Rossum](https://en.wikipedia.org/wiki/Guido_van_Rossum)__ and first released in 1991. Its current version is **3.14**. You can check Python versions history __[here](https://devguide.python.org/versions/)__.\n",
    "- Its name is inspired by _Monty Python's Flying Circus_, a BBC comedy series from the 1970s.\n",
    "- Python is an **interpreted**, **interactive**, **object-oriented** programming language.\n",
    "- Python is a **general-purpose**, **high-level** programming language, and its design philosophy emphasizes code readability.\n",
    "- Python aims to combine \"remarkable power with **very clear syntax**\", and its standard library is large and comprehensive.\n",
    "- Its use of **indentation** for block delimiters is unusual among popular programming languages.\n",
    "- Python features a **dynamic type** system and automatic memory management. It supports multiple **programming paradigms**, including object oriented, **imperative**, **functional** and **procedural**, and has a large and comprehensive **standard library**.\n",
    "- Python is widely used by many companies around the world, such as **Google**, **NVIDIA**, **Instagram**, **Facebook**, **Uber**, **Spotify**, and **NASA**.\n",
    "<br><br>\n",
    "<div class=\"alert alert-block alert-info\">\n",
    "<b>Did you know...</b> That Python is much older than Java?\n",
    "Although Python, given its late popularity, appears to be a language newer than Java, it was first released in 1991, while Java was released in 1995.\n",
    "</div>\n",
    "\n",
    "## Where can we get Python?\n",
    "- Firstly, we need to download and install Python itself, __[here](https://www.python.org/downloads/)__.\n",
    "- Or we can use a distribution such as Anaconda, __[here](https://www.anaconda.com/)__.\n",
    "- We might use code editors, like __[Visual Studio Code](https://code.visualstudio.com/)__.\n",
    "- Or full-featured IDEs, like __[PyCharm](https://www.jetbrains.com/pycharm/download)__.\n",
    "- Anaconda supports Jupyter Notebooks (like this one), but we can use online platforms like __[Google Colab](https://colab.google/)__ or __[Kaggle](https://www.kaggle.com/)__.\n",
    "## Where do we find more information about Python?\n",
    "- In its website (https://www.python.org/).\n",
    "- In Wikipedia (https://en.wikipedia.org/wiki/Python_(programming_language)).\n",
    "- In books, such as:\n",
    "    - _Learning Python_ by Mark Lutz\n",
    "    - _Python Essential Reference_ by David Beazley\n",
    "    - _Python Cookbook_ by Martelli, Ravenscroft and Ascher\n",
    "- In several websites, such as:\n",
    "    - Byte of Python (https://python.swaroopch.com/)\n",
    "    - Coursera (https://www.coursera.org/specializations/python)\n",
    "    - Udemy (https://www.udemy.com/python-101-beginners-coding-bootcamp-free-course/)\n",
    "\n",
    "**Brief Note:** If you want to execute Jupyter Notebooks using Google Chrome or Mozilla instead of Microsoft Edge, follow the instructions that you'll find in __[this video](https://www.youtube.com/watch?v=mB6zqGaNRnE)__."
   ]
  },
  {
   "cell_type": "markdown",
   "id": "e9a204b8-234e-4fed-975e-cef396b66cf0",
   "metadata": {},
   "source": [
    "## Which is Python's Philosophy?\n",
    "It has to be **The Zen of Python**, by *Tim Peters*. You can check it using the following statement:"
   ]
  },
  {
   "cell_type": "code",
   "execution_count": null,
   "id": "5962fb70-754c-41b3-a0dc-033aa1883389",
   "metadata": {},
   "outputs": [],
   "source": [
    "import this"
   ]
  },
  {
   "cell_type": "markdown",
   "id": "73572532-24e8-4bcb-98e2-07c47c217621",
   "metadata": {},
   "source": [
    "## How does Python Interpreter work?\n",
    "<img src=\"images/python_interpreter.png\" alt=\"Python Interpreter\" title=\"Python Interpreter\" />"
   ]
  },
  {
   "cell_type": "markdown",
   "id": "af5176ad-7584-488c-bebc-7ea133586f34",
   "metadata": {},
   "source": [
    "## How is Python Syntax?\n",
    "- It is easy to learn (with dynamic typing and its interpreted nature).\n",
    "- It uses **white-space indentation** instead of curly braces:\n",
    "    - Increase in indentation comes after certain statements\n",
    "    - Decrease in indentation signifies the end of the current block\n",
    "    - Use '\\\\' when must go to next line prematurely"
   ]
  },
  {
   "cell_type": "code",
   "execution_count": null,
   "id": "b4449a15-e917-462d-ac47-c1c2295277de",
   "metadata": {},
   "outputs": [],
   "source": [
    "speed = 40\n",
    "if speed > 80:\n",
    "    print('Too fast')\n",
    "    print('So furious')\n",
    "else:\n",
    "    print('It is ok')\n",
    "    print('Not so furious')\n",
    "print('Why to ask for the speed?')"
   ]
  },
  {
   "cell_type": "markdown",
   "id": "c39f30b4-5e23-43f2-b8e8-b83ada2b2b3d",
   "metadata": {},
   "source": [
    "Now, let's try the usual first program:"
   ]
  },
  {
   "cell_type": "code",
   "execution_count": null,
   "id": "ece0d669-536c-4fa8-be73-4940a87b142e",
   "metadata": {},
   "outputs": [],
   "source": [
    "print('Hello, world!')"
   ]
  },
  {
   "cell_type": "markdown",
   "id": "45565e09-a03c-4da1-952d-3259d6e65bbb",
   "metadata": {},
   "source": [
    "## How Do I Comment Using Python?\n",
    "We can use comments to explain our code. To make a single-line comment, just start it with a hash (`#`):"
   ]
  },
  {
   "cell_type": "code",
   "execution_count": null,
   "id": "8adf4d3b-02c6-480c-8ab4-3000cf314dd1",
   "metadata": {},
   "outputs": [],
   "source": [
    "#This is a comment"
   ]
  },
  {
   "cell_type": "markdown",
   "id": "b1a8004d-8078-428c-8705-2f52cd6432cc",
   "metadata": {},
   "source": [
    "We can use inline comments as well."
   ]
  },
  {
   "cell_type": "code",
   "execution_count": null,
   "id": "3c3ed94d-635c-42be-b30d-ce98e48ca43d",
   "metadata": {},
   "outputs": [],
   "source": [
    "print('Hello people') #Printing a greeting"
   ]
  },
  {
   "cell_type": "markdown",
   "id": "24013a56-c140-48ce-aea0-2dadef6ad877",
   "metadata": {},
   "source": [
    "Any comment will be ignored by the compiler, so you can use them to prevent executing any line of code:"
   ]
  },
  {
   "cell_type": "code",
   "execution_count": null,
   "id": "90867355-693c-41dd-a328-a065808424e0",
   "metadata": {},
   "outputs": [],
   "source": [
    "print('This line will be executed')\n",
    "#print('This line will NOT be executed')"
   ]
  },
  {
   "cell_type": "markdown",
   "id": "c77b1c70-dbcb-4afb-8598-aee873826aa1",
   "metadata": {},
   "source": [
    "Hashes (`#`) can be used to make multi-line comments... using a hash at each line:"
   ]
  },
  {
   "cell_type": "code",
   "execution_count": null,
   "id": "4eff9962-da30-4b98-9ad2-895bc5f30de5",
   "metadata": {},
   "outputs": [],
   "source": [
    "#One line\n",
    "#Another line\n",
    "#One final line"
   ]
  },
  {
   "cell_type": "markdown",
   "id": "4c419fc8-4f29-42f7-ba50-dcbf1b840260",
   "metadata": {},
   "source": [
    "However, there is a well known work-around to do this, using **docstrings**:"
   ]
  },
  {
   "cell_type": "code",
   "execution_count": null,
   "id": "de178f8e-e25d-4e1d-9a36-0ff16537c4fd",
   "metadata": {},
   "outputs": [],
   "source": [
    "\"\"\"\n",
    "This is a multi-line comment with docstrings\n",
    "\n",
    "print(\"Hello world\")\n",
    "print(\"Hello universe\")\n",
    "print(\"Hello everyone\")\n",
    "\"\"\""
   ]
  },
  {
   "cell_type": "markdown",
   "id": "f6c895fc-44d8-45e2-b670-37f7db6725f3",
   "metadata": {},
   "source": [
    "## Variables in Python\n",
    "- **Variables** can be seen as named locations used to store data in the memory.\n",
    "- But more than that, in Python every variable is a reference to an **object**.\n",
    "- **Variables' data can be changed** throughout the program's life-cycle.\n",
    "- We **don't need to declare a variable in Python**. A variable is **declared and initialized** when we assign to it a value for the first time.\n",
    "- As in other languages, in Python we should use an unique name, known as an **identifier** to name a variable. Python is **case-sensitive**.\n",
    "- We can **create** variables, **change** their value, assign **multiple values** in the same line, among other possibilities."
   ]
  },
  {
   "cell_type": "code",
   "execution_count": null,
   "id": "53a9b521-d322-45a6-b617-e72357675e2e",
   "metadata": {},
   "outputs": [],
   "source": [
    "variable_name = 'The value of a variable'\n",
    "print(variable_name)\n",
    "print(type(variable_name))\n",
    "variable_name = 'Another value'\n",
    "print(variable_name)\n",
    "first_name, last_name, age = 'John', 'Doe', 18\n",
    "print(first_name,last_name,age)\n",
    "Nombre = 'Peter'\n",
    "print(nombre,Nombre)"
   ]
  },
  {
   "cell_type": "markdown",
   "id": "1c9c5980-0c00-425d-ad29-c6f140d5b795",
   "metadata": {},
   "source": [
    "## Python Identifiers\n",
    "**Identifier** is the name given to entities like classes, functions, variables, etc. in Python. It helps differentiating one entity from another, and we must follow some rules while writing identifiers:\n",
    "- Identifiers can be a combination of letters in lowercase (a to z) or uppercase (A to Z) or digits (0 to 9) or \n",
    "an underscore (_). Names like `myClass`, `var_1` and `print_this_to_screen`, all are valid examples.\n",
    "- An identifier cannot start with a digit. Therefore, `1variable` is invalid, but `variable1` is perfectly fine.\n",
    "- We cannot use special symbols like !, @, #, $, % etc. in our identifiers.\n",
    "- An identifier can be of any length.\n",
    "- Keywords cannot be used as identifiers."
   ]
  },
  {
   "cell_type": "code",
   "execution_count": null,
   "id": "b0d34394-7146-4d72-9648-fb466a1c46ee",
   "metadata": {},
   "outputs": [],
   "source": [
    "#Keywords in Python\n",
    "help('keywords')"
   ]
  },
  {
   "cell_type": "markdown",
   "id": "690108a3-f326-44e7-a424-c572e28e7bd6",
   "metadata": {},
   "source": [
    "When writing identifiers in Python, we can use **snake-case** or **camel-case**."
   ]
  },
  {
   "cell_type": "code",
   "execution_count": null,
   "id": "1511d267-5a7e-45e7-be60-1cfae2c50d1e",
   "metadata": {},
   "outputs": [],
   "source": [
    "camelCase = \"It would be this notation\"\n",
    "snake_case = 'It would be like this'"
   ]
  },
  {
   "cell_type": "markdown",
   "id": "8bcc3004-f841-465e-8cde-a440a10f0bdc",
   "metadata": {},
   "source": [
    "## Some Guidelines Regarding Python Syntax\n",
    "- Assignment uses `=` and comparison uses `==`.\n",
    "- For numbers `+`, `-`, `*`, `/`, `%`, `//` work as expected.\n",
    "- A special use of `+` is string concatenation.\n",
    "- A special use of `%` is string formatting.\n",
    "- Logical operators are words (`and`, `or`, `not`) not symbols (`&&`, `||`, `!` ).\n",
    "- First assignment to a variable will create it.\n",
    "- Variable types don't need to be declared.\n",
    "- Python figures out the variable types on its own."
   ]
  },
  {
   "cell_type": "markdown",
   "id": "d7b6da94-d161-4cd1-bc5e-700a91a6f643",
   "metadata": {},
   "source": [
    "## Operators in Python\n",
    "- We can use **operators** in many cases as part of **expressions**.\n",
    "- Expressions, in turn, are part of **statements**.\n",
    "- We got several kinds of operators. _Please see_: https://docs.python.org/3/reference/expressions.html#operator-precedence"
   ]
  },
  {
   "cell_type": "code",
   "execution_count": null,
   "id": "22882222-e8ea-4fd6-b685-d315ea1e1cd8",
   "metadata": {},
   "outputs": [],
   "source": [
    "a = 12\n",
    "b = 7\n",
    "print('a + b = ', a+b)\n",
    "print('a - b = ', a-b)\n",
    "print('a * b = ', a*b)\n",
    "print('a / b = ', a/b)\n",
    "print('a % b = ', a%b)\n",
    "print('a // b = ', a//b)\n",
    "print('a ** b = ', a**b)"
   ]
  },
  {
   "cell_type": "markdown",
   "id": "21f2515f-fd56-4e51-bb07-a6941bd1686f",
   "metadata": {},
   "source": [
    "## Python Enhancement Proposals - PEP\n",
    "**PEPs** encompass best practices and Python language enhancements. They can be found here: https://peps.python.org/\n",
    "<br>\n",
    "**PEP 8** is notably the main style guide for Python code. _Please see_: https://peps.python.org/pep-0008/"
   ]
  },
  {
   "cell_type": "markdown",
   "id": "b8f002fd-c3ad-45db-9df5-ed83bc944602",
   "metadata": {},
   "source": [
    "## I/O (Input/Output) with Python\n",
    "### Output\n",
    "- We can use the `print()` function to output data to the standard output device (screen).\n",
    "- Normally, the usage of `print()` will be quite simple. However, you can check the docs here: https://docs.python.org/3/library/functions.html#print"
   ]
  },
  {
   "cell_type": "code",
   "execution_count": null,
   "id": "d3b48736-1673-4b33-a542-1eb2cd0dece5",
   "metadata": {},
   "outputs": [],
   "source": [
    "print('This is a print statement')\n",
    "name = 'Peter'\n",
    "print('My name is',name)\n",
    "print(1,2,3,4,5)\n",
    "print(1,2,3,4,5,sep=' and ')\n",
    "print(1,2,3,4,5,sep=' and ',end=' finish')"
   ]
  },
  {
   "cell_type": "markdown",
   "id": "04f9d7d0-ec09-4322-87b9-fe878ce3f59c",
   "metadata": {},
   "source": [
    "<img src=\"images/python_spongebob_meme.jpg\" alt=\"Python Spongebob\" title=\"Python Spongebob\" />"
   ]
  },
  {
   "cell_type": "markdown",
   "id": "9b1bf8cf-2628-4cc3-9b7a-b255e3571ceb",
   "metadata": {},
   "source": [
    "### Input\n",
    "- We have the `input()` function to take the input from the user.\n",
    "- We can check its documentation easily as well: https://docs.python.org/3/library/functions.html#input\n",
    "<br>The following instructions show how this function works:"
   ]
  },
  {
   "cell_type": "code",
   "execution_count": null,
   "id": "50fb1709-a1a5-407b-89da-142e290d6521",
   "metadata": {},
   "outputs": [],
   "source": [
    "my_name = input('Enter your name: ')"
   ]
  },
  {
   "cell_type": "code",
   "execution_count": null,
   "id": "10993206-1b87-4531-a895-fa851f26db7e",
   "metadata": {},
   "outputs": [],
   "source": [
    "print(my_name)"
   ]
  },
  {
   "cell_type": "code",
   "execution_count": null,
   "id": "9ef8a459-695d-422e-8314-c4b9b1c83002",
   "metadata": {},
   "outputs": [],
   "source": [
    "print('My name is',my_name)"
   ]
  },
  {
   "cell_type": "code",
   "execution_count": null,
   "id": "47276c57-b8a2-4b63-9eaf-11fc728682ef",
   "metadata": {},
   "outputs": [],
   "source": [
    "number_1 = input('Enter a number: ')\n",
    "number_2 = input('Enter another number: ')\n",
    "print(number_1+number_2)"
   ]
  },
  {
   "cell_type": "markdown",
   "id": "3ef35e68-ae4d-4d4d-aed5-3a4b02506c12",
   "metadata": {},
   "source": [
    "Normally, we need to convert input values to number if we want to use them like numbers:"
   ]
  },
  {
   "cell_type": "code",
   "execution_count": null,
   "id": "3034f8fb-601f-48a6-97a9-c9ae99c784ef",
   "metadata": {},
   "outputs": [],
   "source": [
    "number_1 = input('Enter a number: ')\n",
    "number_2 = input('Enter another number: ')\n",
    "print(int(number_1)+int(number_2))"
   ]
  },
  {
   "cell_type": "markdown",
   "id": "a85015b3-b10b-41a1-9037-0ae22fd170c7",
   "metadata": {},
   "source": [
    "<div class=\"alert alert-block alert-warning\">\n",
    "<b>Reflection Questions:</b>\n",
    "    <ul>\n",
    "        <li>What is an interpreted language? And an interactive language?</li>\n",
    "        <li>What is the difference between curly-braces indentation and white-spaces indentation?</li>\n",
    "        <li>What advantages/disadvantages do you find between static and dynamic typing?</li>\n",
    "    </ul>\n",
    "</div>"
   ]
  },
  {
   "cell_type": "code",
   "execution_count": null,
   "id": "3276443e-43a8-4cab-8b68-623bc1794143",
   "metadata": {},
   "outputs": [],
   "source": []
  }
 ],
 "metadata": {
  "kernelspec": {
   "display_name": "Python 3 (ipykernel)",
   "language": "python",
   "name": "python3"
  },
  "language_info": {
   "codemirror_mode": {
    "name": "ipython",
    "version": 3
   },
   "file_extension": ".py",
   "mimetype": "text/x-python",
   "name": "python",
   "nbconvert_exporter": "python",
   "pygments_lexer": "ipython3",
   "version": "3.11.5"
  }
 },
 "nbformat": 4,
 "nbformat_minor": 5
}
