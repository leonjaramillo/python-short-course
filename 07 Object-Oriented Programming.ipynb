{
 "cells": [
  {
   "cell_type": "markdown",
   "id": "949c900f-48e0-48a0-a1f8-e220118fb5d5",
   "metadata": {},
   "source": [
    "# Basic Object-Oriented Programming with Python\n",
    "_Liubov Koliasa, León Jaramillo_ at __[SoftServe](https://www.softserveinc.com/en-us)__\n",
    "<br>Not sure how to use Jupyter Notebooks? Watch __[this video](https://www.youtube.com/watch?v=IMrxB8Mq5KU)__. In case you want to know why or when to use them, or classic scripting, watch __[this one](https://www.youtube.com/watch?v=0Jw8seqai18)__."
   ]
  },
  {
   "cell_type": "markdown",
   "id": "15e14166-f969-4595-ba0e-4e3e897e41d3",
   "metadata": {},
   "source": [
    "## Learning Goals\n",
    "- To learn the basics of **Object-Oriented Programming** (OOP) in Python.\n",
    "- To grasp how does **inheritance** work in Python."
   ]
  },
  {
   "cell_type": "markdown",
   "id": "878a690a-bf10-41ae-9d76-45e77acecd68",
   "metadata": {},
   "source": [
    "- Firstly, let's remember that everything in Python is an object.\n",
    "- Python is an **object-oriented** programming language. Actually, it is a multi-paradigm programming language.\n",
    "- An **object** is simply a collection of **data** (variables) and **methods** (functions) that act on those data.\n",
    "- A **class** is a prototype (template or blueprint) for the object. We can create many objects from a class.\n",
    "- **Instantiation** is the process of creating an object, and this **object** is also called an **instance** of a class.\n",
    "- Data referred above comprise **attributes** as well, which comprise an object's **state**.\n",
    "- Methods referred above comprise an object's **behavior**.\n",
    "- A class creates a new **local namespace** where all its attributes (including functions) are defined."
   ]
  },
  {
   "cell_type": "markdown",
   "id": "a29b68e8-3daa-4aa2-ae55-23371718f376",
   "metadata": {},
   "source": [
    "<img src=\"images/oop_meme.jpg\" alt=\"OOP meme\" title=\"OOP meme\" />"
   ]
  },
  {
   "cell_type": "markdown",
   "id": "f3d62aa6-d1e2-436c-8784-7d8ab092de43",
   "metadata": {},
   "source": [
    "Object-Oriented Programming focuses on writing **reusable code**, along with **abstracting domain** concepts.\n",
    "<br>Actually, it follows the **Don't Repeat Yourself** (or **DRY**) principle.\n",
    "<br>Basic principles of OOP are:\n",
    "- **Inheritance:** A process of creating a new class based on an existing one without modifying it.\n",
    "- **Encapsulation:** Hiding the private details of a class from other objects.\n",
    "- **Polymorphism:** A concept of using common operations in different ways for different data input."
   ]
  },
  {
   "cell_type": "markdown",
   "id": "d539d39a-aa62-4c26-b12c-920f5083a6c0",
   "metadata": {},
   "source": [
    "Instantiation can be seen as follows:\n",
    "<br><img src=\"images/oop_1.png\" alt=\"OOP 1\" title=\"OOP 1\" />\n",
    "<br>And inheritance, as follows:\n",
    "<br><img src=\"images/oop_2.png\" alt=\"OOP 2\" title=\"OOP 2\" />"
   ]
  },
  {
   "cell_type": "markdown",
   "id": "11b36667-e104-4af7-93bf-9701dcba4ac4",
   "metadata": {},
   "source": [
    "- While creating a class, the **name of the class** follows the `class` keyword. In turn, it might be followed by a colon (:).\n",
    "- A class can refer basic (parent) classes (super-classes), which (if any) are listed within parentheses after the defined class name."
   ]
  },
  {
   "cell_type": "code",
   "execution_count": null,
   "id": "0bdfd45c-f354-4a80-8542-c16adad76753",
   "metadata": {},
   "outputs": [],
   "source": [
    "class Triangle():\n",
    "    '''This is a triangle'''\n",
    "    pass"
   ]
  },
  {
   "cell_type": "markdown",
   "id": "49fc42ff-741e-4b23-ae4f-9cbdcbe0821c",
   "metadata": {},
   "source": [
    "- We may (or may not) write a **docstring** for classes, methods, etc.\n",
    "- Class' **methods** are regular functions, and are **indented** within the class.\n",
    "- It is widely agreed that all class' methods (including the constructor) set `self` as their **first parameter**. It indicates explicitly the current object, although we don't need to pass it as an argument when using class' objects."
   ]
  },
  {
   "cell_type": "code",
   "execution_count": null,
   "id": "6f9bbc51-3589-4858-89b9-1dd20afb4b41",
   "metadata": {},
   "outputs": [],
   "source": [
    "class Triangle:\n",
    "    '''This is a triangle'''\n",
    "\n",
    "    def area(self):\n",
    "        return (self.base * self.height) / 2"
   ]
  },
  {
   "cell_type": "markdown",
   "id": "e62db2fc-10c2-435e-82ba-3ca309cbc7d9",
   "metadata": {},
   "source": [
    "We can create data **fields** just defining variables in the proper scope, assigning them some value."
   ]
  },
  {
   "cell_type": "code",
   "execution_count": null,
   "id": "5840b53e-8411-4c91-97ab-c5c4f37f86a0",
   "metadata": {},
   "outputs": [],
   "source": [
    "class Triangle:\n",
    "    '''This is a triangle'''\n",
    "\n",
    "    figure_name = 'triangle'\n",
    "    \n",
    "    def area(self):\n",
    "        return (self.base * self.height) / 2"
   ]
  },
  {
   "cell_type": "markdown",
   "id": "61125fbd-ad42-495d-a41a-f24e2520e2dc",
   "metadata": {},
   "source": [
    "- The **constructor** defines objects' attributes based on its parameters, and should be defined as `__init__`. It is a special attribute, as some others, which are enclosed by double underscore (`__`). This special function gets called whenever a new object of that class is instantiated.\n",
    "- The **destructor** will be invoked every time an object of the respective class is disposed by memory management. It is optional, and should be defined as `__del__`.\n",
    "\n",
    "We can create a class as follows."
   ]
  },
  {
   "cell_type": "code",
   "execution_count": null,
   "id": "fd7ca64a-41b1-471b-8a6b-72e09c7e03d7",
   "metadata": {},
   "outputs": [],
   "source": [
    "class Triangle:\n",
    "    '''This is a triangle'''\n",
    "\n",
    "    figure_name = 'triangle'\n",
    "    \n",
    "    def __init__(self, base=0, height=0, color='white'):\n",
    "        self.base = base\n",
    "        self.height = height\n",
    "        self.color = color\n",
    "\n",
    "    def area(self):\n",
    "        return (self.base * self.height) / 2\n",
    "\n",
    "    def paint(self, color):\n",
    "        self.color = color\n",
    "        print(f'My color is {self.color}.')\n",
    "\n",
    "    def __del__(self):\n",
    "        print('Disposing a triangle')"
   ]
  },
  {
   "cell_type": "markdown",
   "id": "3353cffc-5753-43d6-93f2-b5cd6c284270",
   "metadata": {},
   "source": [
    "Once created, we can use a class as follows."
   ]
  },
  {
   "cell_type": "markdown",
   "id": "41aafef6-50fc-487f-9d71-e9cc66483902",
   "metadata": {},
   "source": [
    "**Creating an object**"
   ]
  },
  {
   "cell_type": "code",
   "execution_count": null,
   "id": "9428aadf-cf4f-40fb-984c-d052da35fe9b",
   "metadata": {},
   "outputs": [],
   "source": [
    "my_triangle = Triangle()"
   ]
  },
  {
   "cell_type": "markdown",
   "id": "5d6b14c6-7bd3-46e7-8ed1-6c9e20f78451",
   "metadata": {},
   "source": [
    "**Accessing their attributes (fields)**"
   ]
  },
  {
   "cell_type": "code",
   "execution_count": null,
   "id": "54dff78a-7503-476f-9f5c-388420a5d3b3",
   "metadata": {},
   "outputs": [],
   "source": [
    "my_triangle.base"
   ]
  },
  {
   "cell_type": "code",
   "execution_count": null,
   "id": "4d78692f-7c54-46b3-ba5f-ee55bb066cb8",
   "metadata": {},
   "outputs": [],
   "source": [
    "my_triangle.height"
   ]
  },
  {
   "cell_type": "code",
   "execution_count": null,
   "id": "6f089a1d-7254-42b1-a226-1c8ea25f80ac",
   "metadata": {},
   "outputs": [],
   "source": [
    "my_triangle.color"
   ]
  },
  {
   "cell_type": "markdown",
   "id": "1471dcc2-a89e-47b3-9a3a-da4dbdf3dd04",
   "metadata": {},
   "source": [
    "**Calling their methods**"
   ]
  },
  {
   "cell_type": "code",
   "execution_count": null,
   "id": "55a37ed9-0ae1-447e-9f8f-015514b25b14",
   "metadata": {},
   "outputs": [],
   "source": [
    "my_triangle.paint('blue')"
   ]
  },
  {
   "cell_type": "code",
   "execution_count": null,
   "id": "964ae7e1-c57d-4d4a-814b-48a2435e1486",
   "metadata": {},
   "outputs": [],
   "source": [
    "my_triangle.color"
   ]
  },
  {
   "cell_type": "code",
   "execution_count": null,
   "id": "e0de3651-9212-46ed-b582-d05916b0e3fa",
   "metadata": {},
   "outputs": [],
   "source": [
    "my_triangle.base = 4\n",
    "my_triangle.height = 3"
   ]
  },
  {
   "cell_type": "code",
   "execution_count": null,
   "id": "70cd2c12-b04a-4296-a882-ee44c73e1723",
   "metadata": {},
   "outputs": [],
   "source": [
    "my_triangle.area()"
   ]
  },
  {
   "cell_type": "code",
   "execution_count": null,
   "id": "40f2e5dd-ac0c-47b7-a3d7-bf86d1aa6b91",
   "metadata": {},
   "outputs": [],
   "source": [
    "Triangle.__doc__"
   ]
  },
  {
   "cell_type": "markdown",
   "id": "cf53de91-ac8b-47e9-baaf-0a85cb46fd46",
   "metadata": {},
   "source": [
    "In Python a class is not something static after its definition, so you can **add attributes** after it's been created."
   ]
  },
  {
   "cell_type": "code",
   "execution_count": null,
   "id": "ecfe7260-d174-4bb6-8920-a7f1ed442056",
   "metadata": {},
   "outputs": [],
   "source": [
    "def check_white(self):\n",
    "    return self.color == 'white'\n",
    "\n",
    "Triangle.is_white = check_white\n",
    "\n",
    "first_triangle = Triangle()\n",
    "print(first_triangle.is_white())"
   ]
  },
  {
   "cell_type": "markdown",
   "id": "67763385-7c31-4790-a127-a6152808d061",
   "metadata": {},
   "source": [
    "Any attribute of an object (or the object itself) can be **deleted** anytime, using the `del` statement."
   ]
  },
  {
   "cell_type": "code",
   "execution_count": null,
   "id": "1bdd8d2a-7ceb-4f46-a51d-5fbdc9dd19f4",
   "metadata": {},
   "outputs": [],
   "source": [
    "del Triangle.is_white\n",
    "print(first_triangle.is_white())"
   ]
  },
  {
   "cell_type": "code",
   "execution_count": null,
   "id": "630eb8da-cb11-413d-b03c-691832731730",
   "metadata": {},
   "outputs": [],
   "source": [
    "del my_triangle\n",
    "print(first_triangle.color)"
   ]
  },
  {
   "cell_type": "markdown",
   "id": "09b9b8d9-6507-42fc-8a8e-24bb4ba07b15",
   "metadata": {},
   "source": [
    "As soon as we define a class, a new **class object** is created with the same name. This class object allows us to access the different attributes as well as to instantiate new objects of that class."
   ]
  },
  {
   "cell_type": "markdown",
   "id": "f5590922-1655-46a8-bbc9-ef54bb12b025",
   "metadata": {},
   "source": [
    "Python allows us to use **magic methods**. There are many of them as we can see here: https://realpython.com/python-magic-methods/. Bellow, we'll see a few of them though. Redefining operator such as `__add__` for new classes is called **operator overloading**."
   ]
  },
  {
   "cell_type": "code",
   "execution_count": null,
   "id": "5bc2eeb4-a8a6-429f-b6ec-62c96013d0be",
   "metadata": {},
   "outputs": [],
   "source": [
    "class Point():\n",
    "    def __init__(self, x, y):\n",
    "        self.x = x\n",
    "        self.y = y\n",
    "\n",
    "    def __add__(self, another_point):\n",
    "        return Point(self.x + another_point.x, self.y + another_point.y)\n",
    "\n",
    "    def __sub__(self, another_point):\n",
    "        return Point(self.x - another_point.x, self.y - another_point.y)\n",
    "\n",
    "    def __str__(self):\n",
    "        return f'X = {self.x}, Y = {self.y}'"
   ]
  },
  {
   "cell_type": "markdown",
   "id": "49279789-98a6-490b-922b-48bd042f324b",
   "metadata": {},
   "source": [
    "The class above defines a constructor and three magic methods. `__add__` will allow us to **add** two object of the `Point` class (through operator overloading), `__sub__` will allow us to **subtract** one point from another, and `__str__` will allow us to get its **str** representation."
   ]
  },
  {
   "cell_type": "code",
   "execution_count": null,
   "id": "d5af4c5b-0515-4c30-9875-cb7fc1afba40",
   "metadata": {},
   "outputs": [],
   "source": [
    "first_point = Point(4, 6)"
   ]
  },
  {
   "cell_type": "code",
   "execution_count": null,
   "id": "5c5ecf5b-f3db-41a6-9fb2-fd5bcbef1acc",
   "metadata": {},
   "outputs": [],
   "source": [
    "first_point.x"
   ]
  },
  {
   "cell_type": "code",
   "execution_count": null,
   "id": "806ec728-6464-4f57-900c-f6d3d7a94aa4",
   "metadata": {},
   "outputs": [],
   "source": [
    "first_point.y"
   ]
  },
  {
   "cell_type": "code",
   "execution_count": null,
   "id": "bb14ded0-61e8-4849-89c8-24689a1dceb2",
   "metadata": {},
   "outputs": [],
   "source": [
    "second_point = Point(-2, 7)"
   ]
  },
  {
   "cell_type": "code",
   "execution_count": null,
   "id": "32a5f06c-e33f-4c71-9140-955230093228",
   "metadata": {},
   "outputs": [],
   "source": [
    "second_point.x"
   ]
  },
  {
   "cell_type": "code",
   "execution_count": null,
   "id": "5a829f12-34a6-42a6-a321-43dab1fd9f25",
   "metadata": {},
   "outputs": [],
   "source": [
    "second_point.y"
   ]
  },
  {
   "cell_type": "code",
   "execution_count": null,
   "id": "4301a5a3-01cb-473a-9fd6-2a72e58a9e46",
   "metadata": {},
   "outputs": [],
   "source": [
    "new_point = first_point + second_point"
   ]
  },
  {
   "cell_type": "code",
   "execution_count": null,
   "id": "a4e8644d-d109-4ff7-87b5-41cb35e806e3",
   "metadata": {},
   "outputs": [],
   "source": [
    "new_point.x"
   ]
  },
  {
   "cell_type": "code",
   "execution_count": null,
   "id": "56fca482-2345-49ff-b499-eae3c17ef641",
   "metadata": {},
   "outputs": [],
   "source": [
    "new_point.y"
   ]
  },
  {
   "cell_type": "code",
   "execution_count": null,
   "id": "39e2e535-4ac7-411a-bb63-d09bf000af94",
   "metadata": {},
   "outputs": [],
   "source": [
    "str(new_point)"
   ]
  },
  {
   "cell_type": "code",
   "execution_count": null,
   "id": "cd5c196b-3b00-46c8-a48f-86767e1acfb5",
   "metadata": {},
   "outputs": [],
   "source": [
    "print(new_point)"
   ]
  },
  {
   "cell_type": "code",
   "execution_count": null,
   "id": "53578412-aada-40bd-afc2-9b687e3631cb",
   "metadata": {},
   "outputs": [],
   "source": [
    "first_point - second_point"
   ]
  },
  {
   "cell_type": "markdown",
   "id": "de0d6e25-8f73-4cc2-bbfa-cae018e4b70a",
   "metadata": {},
   "source": [
    "<div class=\"alert alert-block alert-info\">\n",
    "<b>Did you know...</b> In Python, everything is an object, including functions, classes, and even modules! This means that every item in Python has a type, and you can interact with them using object-oriented techniques.\n",
    "</div>"
   ]
  },
  {
   "cell_type": "markdown",
   "id": "fbc48398-8406-4470-863f-d953ea17cbe3",
   "metadata": {},
   "source": [
    "## Basic Inheritance in Python\n",
    "- **Inheritance** is a way of creating a new class using details of an existing class without modifying it.\n",
    "- The newly formed class is a **derived class** (or *child class*).\n",
    "- Similarly, the existing class is a **base class** (or *parent class*).\n",
    "- Unlike some other languages, Python supports **multiple inheritance**."
   ]
  },
  {
   "cell_type": "code",
   "execution_count": null,
   "id": "474d7181-14e3-4a74-a623-e1854ffc628b",
   "metadata": {},
   "outputs": [],
   "source": [
    "class Television():\n",
    "    def __init__(self, current_channel=3, current_volume=10, color='black'):\n",
    "        self.current_channel = current_channel\n",
    "        self.current_volume = current_volume\n",
    "        self.color = color\n",
    "\n",
    "    def mute(self):\n",
    "        self.current_volume = 0"
   ]
  },
  {
   "cell_type": "code",
   "execution_count": null,
   "id": "1c6ef07e-f244-4dc4-98ca-758bafd40fe5",
   "metadata": {},
   "outputs": [],
   "source": [
    "class SmartTV(Television):\n",
    "    def __init__(self, current_channel=3, current_volume=10, color='black', is_wifi_on=False):\n",
    "        super().__init__(current_channel, current_volume, color)\n",
    "        self.is_wifi_on = is_wifi_on\n",
    "\n",
    "    def check_wifi(self):\n",
    "        if self.is_wifi_on == True:\n",
    "            return 'WiFi is ON'\n",
    "        else:\n",
    "            return 'WiFi is OFF'"
   ]
  },
  {
   "cell_type": "markdown",
   "id": "765983a5-2d08-4fd6-b50d-7f8957b23e93",
   "metadata": {},
   "source": [
    "- Above, **Television** is the base (parent) class, while **SmartTV** is the derived (child) class.\n",
    "- `SmartTV` will **inherit** `Television`'s features.\n",
    "- We can use members of the base class, from the derived class, using `super()`.\n",
    "- We can use both classes as usual."
   ]
  },
  {
   "cell_type": "code",
   "execution_count": null,
   "id": "d691bba1-d02b-4d11-ab34-0659d349d225",
   "metadata": {},
   "outputs": [],
   "source": [
    "my_tv = Television()"
   ]
  },
  {
   "cell_type": "code",
   "execution_count": null,
   "id": "9d7d2602-03f6-4f3b-9238-bec1d2a34c19",
   "metadata": {},
   "outputs": [],
   "source": [
    "my_tv.current_channel"
   ]
  },
  {
   "cell_type": "code",
   "execution_count": null,
   "id": "dfd62afa-3072-48c9-a883-3a9a766750f1",
   "metadata": {},
   "outputs": [],
   "source": [
    "my_tv.current_volume"
   ]
  },
  {
   "cell_type": "code",
   "execution_count": null,
   "id": "ff61deda-7d4c-4f3a-a050-ea7ea94f5eec",
   "metadata": {},
   "outputs": [],
   "source": [
    "my_tv.color"
   ]
  },
  {
   "cell_type": "code",
   "execution_count": null,
   "id": "319822bc-6cd3-491a-a500-6c71f6e11431",
   "metadata": {},
   "outputs": [],
   "source": [
    "my_tv.mute()"
   ]
  },
  {
   "cell_type": "code",
   "execution_count": null,
   "id": "47315f12-1122-49f9-8863-a7cfc84c23a8",
   "metadata": {},
   "outputs": [],
   "source": [
    "my_tv.current_volume"
   ]
  },
  {
   "cell_type": "code",
   "execution_count": null,
   "id": "260840d0-dca3-4f07-ae9a-460b5a0b7199",
   "metadata": {},
   "outputs": [],
   "source": [
    "my_smart_tv = SmartTV(8, 11, 'gris')"
   ]
  },
  {
   "cell_type": "code",
   "execution_count": null,
   "id": "f685acf6-2be1-473e-8ad5-8891341cf71f",
   "metadata": {},
   "outputs": [],
   "source": [
    "my_smart_tv.current_channel"
   ]
  },
  {
   "cell_type": "code",
   "execution_count": null,
   "id": "40b46038-7b4d-4051-8892-1a2067d8f952",
   "metadata": {},
   "outputs": [],
   "source": [
    "my_smart_tv.current_volume"
   ]
  },
  {
   "cell_type": "code",
   "execution_count": null,
   "id": "73e8541b-23cf-4177-83eb-22b0ba809ebf",
   "metadata": {},
   "outputs": [],
   "source": [
    "my_smart_tv.color"
   ]
  },
  {
   "cell_type": "code",
   "execution_count": null,
   "id": "8e4109e0-0e15-4245-9102-38c110312978",
   "metadata": {},
   "outputs": [],
   "source": [
    "my_smart_tv.is_wifi_on"
   ]
  },
  {
   "cell_type": "code",
   "execution_count": null,
   "id": "3510bdca-852e-44d9-8520-1f8ea021c1cb",
   "metadata": {},
   "outputs": [],
   "source": [
    "my_smart_tv.mute()"
   ]
  },
  {
   "cell_type": "code",
   "execution_count": null,
   "id": "8bd90e4d-6f2f-48b0-b79b-5bd026b55281",
   "metadata": {},
   "outputs": [],
   "source": [
    "my_smart_tv.current_volume"
   ]
  },
  {
   "cell_type": "code",
   "execution_count": null,
   "id": "970c3564-5b31-452f-83c4-a675b96df27b",
   "metadata": {},
   "outputs": [],
   "source": [
    "my_smart_tv.check_wifi()"
   ]
  },
  {
   "cell_type": "code",
   "execution_count": null,
   "id": "dc57a5e1-d815-41d0-a44e-fe4b8178520a",
   "metadata": {},
   "outputs": [],
   "source": [
    "my_tv.check_wifi()"
   ]
  },
  {
   "cell_type": "markdown",
   "id": "c6029502-7ae2-4702-9d6d-7ff3bf43cae6",
   "metadata": {},
   "source": [
    "There are two built-in functions (among others) which are useful in OOP: `isinstance()` and `issubclass()`. `isinstance()` returns `True` if the object provided is an instance of a given class or one of its subclasses. `issubclass()` return `True` if the first class provided is a subclass of the second one."
   ]
  },
  {
   "cell_type": "code",
   "execution_count": null,
   "id": "96570309-bea9-45f6-8fa1-feb6242f5c68",
   "metadata": {},
   "outputs": [],
   "source": [
    "isinstance(my_tv, Television)"
   ]
  },
  {
   "cell_type": "code",
   "execution_count": null,
   "id": "fce51367-7bd6-4053-b78f-507435317feb",
   "metadata": {},
   "outputs": [],
   "source": [
    "isinstance(my_tv, SmartTV)"
   ]
  },
  {
   "cell_type": "code",
   "execution_count": null,
   "id": "22bc8df4-7a50-4edc-8484-379fda6e847e",
   "metadata": {},
   "outputs": [],
   "source": [
    "isinstance(my_smart_tv, Television)"
   ]
  },
  {
   "cell_type": "code",
   "execution_count": null,
   "id": "b27022d5-16c2-467c-8d2b-3e1aeb95fa54",
   "metadata": {},
   "outputs": [],
   "source": [
    "isinstance(my_smart_tv, SmartTV)"
   ]
  },
  {
   "cell_type": "code",
   "execution_count": null,
   "id": "c7e69f3d-7f47-444e-baa2-26856c4b176c",
   "metadata": {},
   "outputs": [],
   "source": [
    "issubclass(Television, SmartTV)"
   ]
  },
  {
   "cell_type": "code",
   "execution_count": null,
   "id": "4a453f15-0ace-427e-ab77-194417c02ac5",
   "metadata": {},
   "outputs": [],
   "source": [
    "issubclass(SmartTV, Television)"
   ]
  },
  {
   "cell_type": "markdown",
   "id": "ab85e9fb-f8b2-46c2-aa5b-8a3efbeedbcf",
   "metadata": {},
   "source": [
    "<div class=\"alert alert-block alert-warning\">\n",
    "<b>Reflection Questions:</b>\n",
    "    <ul>\n",
    "        <li>What are some key considerations when designing a class structure for a new project? How do concepts like cohesion and coupling influence your design choices?</li>\n",
    "        <li>How does creating a class and using objects help organize and manage your code? Can you think of a real-world analogy that illustrates the relationship between a class and its objects?</li>\n",
    "        <li>How does encapsulation in Python help protect the internal state of an object?</li>\n",
    "    </ul>\n",
    "</div>"
   ]
  },
  {
   "cell_type": "markdown",
   "id": "de80831b-3a75-4f64-aa75-7ad9e098564e",
   "metadata": {},
   "source": [
    "## Let's do a little exercise\n",
    "- Write a class called Car with the following attributes:\n",
    "  - make (e.g., \"Toyota\")\n",
    "  - model (e.g., \"Corolla\")\n",
    "  - year (e.g., 2020)\n",
    "  - color (e.g., \"blue\")\n",
    "- Define a method display_info that prints out the car's details in a readable format, like: \"2020 Toyota Corolla, Blue\"\n",
    "- Create an object of the Car class with your own values for make, model, year, and color.\n",
    "- Call the display_info method on the object to print the car's details."
   ]
  },
  {
   "cell_type": "code",
   "execution_count": null,
   "id": "bf5c9eb3-73b8-49a9-9909-c14ac98d0cbb",
   "metadata": {},
   "outputs": [],
   "source": []
  }
 ],
 "metadata": {
  "kernelspec": {
   "display_name": "Python 3 (ipykernel)",
   "language": "python",
   "name": "python3"
  },
  "language_info": {
   "codemirror_mode": {
    "name": "ipython",
    "version": 3
   },
   "file_extension": ".py",
   "mimetype": "text/x-python",
   "name": "python",
   "nbconvert_exporter": "python",
   "pygments_lexer": "ipython3",
   "version": "3.11.5"
  }
 },
 "nbformat": 4,
 "nbformat_minor": 5
}
