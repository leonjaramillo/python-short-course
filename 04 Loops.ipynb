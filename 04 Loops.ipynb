{
 "cells": [
  {
   "cell_type": "markdown",
   "id": "371df4a2-c7ae-409f-84a6-ed4e6f308820",
   "metadata": {},
   "source": [
    "# Loops in Python\n",
    "_Liubov Koliasa, León Jaramillo_ at __[SoftServe](https://www.softserveinc.com/en-us)__\n",
    "<br>Not sure how to use Jupyter Notebooks? Watch __[this video](https://www.youtube.com/watch?v=IMrxB8Mq5KU)__. In case you want to know why or when to use them, or classic scripting, watch __[this one](https://www.youtube.com/watch?v=0Jw8seqai18)__."
   ]
  },
  {
   "cell_type": "markdown",
   "id": "417ce6cd-4268-4882-b414-87a3ee1ce0ee",
   "metadata": {},
   "source": [
    "## Learning Goals\n",
    "- To know how to use `while` loops to execute instructions while something is true.\n",
    "- To know how to use `for` loops over iterable objects.\n",
    "- To know how to use the `range()` function, specially in `for` loops."
   ]
  },
  {
   "cell_type": "markdown",
   "id": "04144980-6c89-4598-b98c-30985aaec491",
   "metadata": {},
   "source": [
    "- Loops allow us to **repeat** an instruction or a set of instructions:\n",
    "  - Given some condition(s).\n",
    "  - Throughout a data structure.\n",
    "- Main loops in Python are **while** and **for**.\n",
    "\n",
    "<div class=\"alert alert-block alert-info\">\n",
    "<b>Did you know...</b> In Python, you can use the else clause with loops! The else block is executed when the loop completes normally (i.e., without encountering a break statement).\n",
    "</div>\n",
    "\n",
    "## While Loop\n",
    "- **while** loops allow us to execute one or more instructions *while* some condition(s) is/are `True`.\n",
    "- Optionally, one can define what happens once this condition is not `True` anymore. Let's see the following examples:\n",
    "\n",
    "<img src=\"images/while_loop.png\" alt=\"While Loop\" title=\"While Loop\" />\n",
    "\n",
    "<br>`while condition(s):`\n",
    "<br>`    statement(s)`\n",
    "<br>`[else:`\n",
    "<br>`    statement(s)]`"
   ]
  },
  {
   "cell_type": "code",
   "execution_count": null,
   "id": "0b620275-709f-405b-97dc-064a17b1a6ae",
   "metadata": {},
   "outputs": [],
   "source": [
    "i = 0\n",
    "while i < 10:\n",
    "    print(i)\n",
    "    i = i+1"
   ]
  },
  {
   "cell_type": "code",
   "execution_count": null,
   "id": "02eba713-9e92-466a-97bc-78f4448e4956",
   "metadata": {},
   "outputs": [],
   "source": [
    "i = 0\n",
    "while i < 10:\n",
    "    print(i)\n",
    "    i += 1"
   ]
  },
  {
   "cell_type": "code",
   "execution_count": null,
   "id": "79112cf4-97b7-4a5f-9aee-822d7da37f98",
   "metadata": {},
   "outputs": [],
   "source": [
    "i = 0\n",
    "while i < 10:\n",
    "    print(i)\n",
    "    i += 1\n",
    "else:\n",
    "    print('It already finished')"
   ]
  },
  {
   "cell_type": "code",
   "execution_count": null,
   "id": "36733f41-6bbf-4384-b3eb-1e8c26666cd4",
   "metadata": {},
   "outputs": [],
   "source": [
    "i = 10\n",
    "while i < 10:\n",
    "    print(i)\n",
    "    i += 1\n",
    "else:\n",
    "    print('It never started')"
   ]
  },
  {
   "cell_type": "code",
   "execution_count": null,
   "id": "128f6def-2121-4264-8be7-64e73d6127a8",
   "metadata": {},
   "outputs": [],
   "source": [
    "number = 100\n",
    "while number > 0.001:\n",
    "    print(number)\n",
    "    number *= 0.11"
   ]
  },
  {
   "cell_type": "code",
   "execution_count": null,
   "id": "eba3fb0d-23fc-4b8e-9630-1f80c1822e5f",
   "metadata": {},
   "outputs": [],
   "source": [
    "my_name = 'Slim Shady'\n",
    "i = 0\n",
    "while i < len(my_name):\n",
    "    print(my_name[i])\n",
    "    i+=1"
   ]
  },
  {
   "cell_type": "markdown",
   "id": "f7abd3cb-5c99-4a75-9c3a-ed23efdaa302",
   "metadata": {},
   "source": [
    "## For Loop\n",
    "- **for** loops are intended to execute one or more instructions *a fixed number of times*.\n",
    "- These loops always work over iterable objects (i.e., collections, generators).\n",
    "\n",
    "<img src=\"images/for_loop.png\" alt=\"For Loop\" title=\"For Loop\" />\n",
    "\n",
    "<br>`for target_list in expression_list:`\n",
    "<br>`    statement(s)`\n",
    "<br>`[else:`\n",
    "<br>`    statement(s)]`"
   ]
  },
  {
   "cell_type": "code",
   "execution_count": null,
   "id": "dec886c1-d914-4ea6-8a47-48bde9e5b729",
   "metadata": {},
   "outputs": [],
   "source": [
    "my_list = [9, -8, 7, -6, 5]\n",
    "for e in my_list:\n",
    "    print(e)\n",
    "    print('Iteration')\n",
    "print('It is outside of the iteration')"
   ]
  },
  {
   "cell_type": "code",
   "execution_count": null,
   "id": "bc97dc0f-61b0-4ea3-a74d-203e677a5a9d",
   "metadata": {},
   "outputs": [],
   "source": [
    "my_list = ['car','moto','bike']\n",
    "for i in range(len(my_list)):\n",
    "    print(my_list[i])"
   ]
  },
  {
   "cell_type": "code",
   "execution_count": null,
   "id": "c3ab7ff7-5e49-4206-a57f-084a58dc9382",
   "metadata": {},
   "outputs": [],
   "source": [
    "for e in my_list:\n",
    "    print(e)\n",
    "else:\n",
    "    print(\"Out of for\")"
   ]
  },
  {
   "cell_type": "code",
   "execution_count": null,
   "id": "80d8944c-c656-4187-a3fb-e8b7a0c5e889",
   "metadata": {},
   "outputs": [],
   "source": [
    "for i in range(8):\n",
    "    print(i)"
   ]
  },
  {
   "cell_type": "code",
   "execution_count": null,
   "id": "16f90c07-2ad5-42ef-a389-69522b438aff",
   "metadata": {},
   "outputs": [],
   "source": [
    "my_list"
   ]
  },
  {
   "cell_type": "code",
   "execution_count": null,
   "id": "cbd10cb2-cb06-42c7-bfbf-68d2803781b3",
   "metadata": {},
   "outputs": [],
   "source": [
    "range(8)"
   ]
  },
  {
   "cell_type": "markdown",
   "id": "58fa5024-9bb3-4518-8bd7-c8ad5f08b6c5",
   "metadata": {},
   "source": [
    "In Python, we have **pass**, **continue** and **break** statements.\n",
    "<br>`pass` instruction does nothing, and is usually put as a placeholder in the code."
   ]
  },
  {
   "cell_type": "code",
   "execution_count": null,
   "id": "29a9657c-be63-450a-b278-ccd6a69d4e32",
   "metadata": {},
   "outputs": [],
   "source": [
    "for element in my_list:\n",
    "    pass\n",
    "\n",
    "print('Hello')"
   ]
  },
  {
   "cell_type": "markdown",
   "id": "6aede2e5-b3c1-4b4c-b7ac-01f88b89abbb",
   "metadata": {},
   "source": [
    "`continue` is used within loops and allows us to skip the rest of the current iteration within the inner loop, leading the execution to its following iteration."
   ]
  },
  {
   "cell_type": "code",
   "execution_count": null,
   "id": "8f74ac9e-533d-4fb7-8e34-39cb28967369",
   "metadata": {},
   "outputs": [],
   "source": [
    "for i in range(20+1):\n",
    "    if i%3 == 0:\n",
    "        continue\n",
    "    print(i)"
   ]
  },
  {
   "cell_type": "markdown",
   "id": "b54a2980-ff08-4878-82d6-ed72a633defc",
   "metadata": {},
   "source": [
    "`break` is similar to `continue`, but it finishes the whole inner loop."
   ]
  },
  {
   "cell_type": "code",
   "execution_count": null,
   "id": "b7c2b373-407e-4f92-8557-559b81445bdf",
   "metadata": {},
   "outputs": [],
   "source": [
    "while True:\n",
    "    opcion = input('Type first-name to get the first name, last-name to get the last name, or exit, to exit the program')\n",
    "    if opcion == 'first-name':\n",
    "        print('The first name is Juan')\n",
    "    elif opcion == 'last-name':\n",
    "        print('The last name is Valdez')\n",
    "    elif opcion == 'exit':\n",
    "        break\n",
    "    else:\n",
    "        print('Invalid option')"
   ]
  },
  {
   "cell_type": "markdown",
   "id": "36d37aa8-cb17-4f18-bb2c-3355bc695189",
   "metadata": {},
   "source": [
    "## Range Function\n",
    "- This is a versatile **function** to create lists containing *arithmetic progressions*, using a *generator*.\n",
    "- It is most often used in `for` loops.\n",
    "- The arguments must be plain integers.\n",
    "- It can be used with one, two, or three arguments, as follows:\n",
    "  - `range(stop)`\n",
    "  - `range(start, stop)`\n",
    "  - `range(start, stop, step)`"
   ]
  },
  {
   "cell_type": "code",
   "execution_count": null,
   "id": "cda49e87-280e-4cbf-96d2-d847ce0affda",
   "metadata": {},
   "outputs": [],
   "source": [
    "for i in range(10):\n",
    "    print(i)"
   ]
  },
  {
   "cell_type": "code",
   "execution_count": null,
   "id": "a0d7f426-6b6c-44da-a912-76efe5cee194",
   "metadata": {},
   "outputs": [],
   "source": [
    "for i in range(2, 10):\n",
    "    print(i)"
   ]
  },
  {
   "cell_type": "code",
   "execution_count": null,
   "id": "602c6519-d935-401c-8798-d84684a66c8c",
   "metadata": {},
   "outputs": [],
   "source": [
    "for i in range(1,10+1):\n",
    "    print(i)"
   ]
  },
  {
   "cell_type": "code",
   "execution_count": null,
   "id": "4c878696-b800-4d3e-ab6a-25f78e85069f",
   "metadata": {},
   "outputs": [],
   "source": [
    "for i in range(0,10,2):\n",
    "    print(i)"
   ]
  },
  {
   "cell_type": "code",
   "execution_count": null,
   "id": "f79ae74a-6e90-4429-8238-5b26dad14d99",
   "metadata": {},
   "outputs": [],
   "source": [
    "for i in range(10,0,-2):\n",
    "    print(i)"
   ]
  },
  {
   "cell_type": "markdown",
   "id": "1cc8fa22-cbcf-4ca6-b568-d1efe32d9380",
   "metadata": {},
   "source": [
    "<div class=\"alert alert-block alert-warning\">\n",
    "<b>Reflection Questions:</b>\n",
    "    <ul>\n",
    "        <li>How do you decide whether to use a for loop or a while loop in a given situation?</li>\n",
    "        <li>What are the potential challenges of using nested loops, and how can you manage their complexity?</li>\n",
    "        <li>How do break and continue statements influence the flow of a loop? Can you think of a situation where using these statements would make your code more readable or efficient?</li>\n",
    "    </ul>\n",
    "</div>"
   ]
  },
  {
   "cell_type": "markdown",
   "id": "d3436983-2464-4eea-ba18-ee86c44f33ac",
   "metadata": {},
   "source": [
    "## Let's do a little exercise\n",
    "- Write a program that uses a for loop to count how many even numbers there are between 1 and 20 (inclusive).\n",
    "- Print the count."
   ]
  },
  {
   "cell_type": "code",
   "execution_count": null,
   "id": "fb50c855-8843-449a-9128-a86897e911d5",
   "metadata": {},
   "outputs": [],
   "source": []
  }
 ],
 "metadata": {
  "kernelspec": {
   "display_name": "Python 3 (ipykernel)",
   "language": "python",
   "name": "python3"
  },
  "language_info": {
   "codemirror_mode": {
    "name": "ipython",
    "version": 3
   },
   "file_extension": ".py",
   "mimetype": "text/x-python",
   "name": "python",
   "nbconvert_exporter": "python",
   "pygments_lexer": "ipython3",
   "version": "3.11.5"
  }
 },
 "nbformat": 4,
 "nbformat_minor": 5
}
