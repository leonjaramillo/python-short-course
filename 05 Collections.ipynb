{
 "cells": [
  {
   "cell_type": "markdown",
   "id": "bf84cda4-9818-4b2f-9742-9d0d309ff811",
   "metadata": {},
   "source": [
    "# Collections\n",
    "_Liubov Koliasa, León Jaramillo_ at __[SoftServe](https://www.softserveinc.com/en-us)__"
   ]
  },
  {
   "cell_type": "markdown",
   "id": "24520a5f-4e51-4dd6-b568-3dc18c5c0c29",
   "metadata": {},
   "source": [
    "## Learning Goals\n",
    "- To learn to use **lists** as ordered and mutable collections.\n",
    "- To learn to use **tuples** as some kind of immutable lists.\n",
    "- To use **sets** as unindexed collections compatible with special set operations.\n",
    "- To use **dictionaries** as a key-value elements collection."
   ]
  },
  {
   "cell_type": "markdown",
   "id": "aa2e6ae9-8964-4b2f-a7f2-2e4c20aed935",
   "metadata": {},
   "source": [
    "In Python, **collections** allow us to collect and process different types of groups of elements. There are four *basic* collection data-types in Python.\n",
    "- **List** is a collection which is ordered and mutable. Allows duplicate members.\r",
    "- **Tuple** is a collection which is ordered and immutable. Allows duplicate members.\n",
    "- **Set** is a collection which is unordered and unindexed. With no duplicate members.\n",
    "- **Dictionary** is a collection which is unordered, changeable and indexed. With no duplicate members."
   ]
  },
  {
   "cell_type": "markdown",
   "id": "56570ebc-3b18-4348-bc0f-f7462cb6577e",
   "metadata": {},
   "source": [
    "## Lists\n",
    "- A **list** is an **ordered** sequence of items, similar to an array.\n",
    "- Values in the list are called **elements** / **items**.\n",
    "- It can be written as a list of comma-separated items (values) between **square brackets** `[ ]`.\n",
    "- Items in the lists can be of different data types.\n",
    "- Lists are **mutable**; so they can be changed in-place.\n",
    "- Lists are **dynamic**.\n",
    "- Feature same operators as for strings.\n",
    "- Lists have a set of built-in methods (some of them change the list in place): `append()`, `insert()`, `pop()`, `reverse()`, `sort()`, etc."
   ]
  },
  {
   "cell_type": "markdown",
   "id": "99b9046b-5d01-429c-877f-d1804fc22c22",
   "metadata": {},
   "source": [
    "Firstly, we can create empty lists."
   ]
  },
  {
   "cell_type": "code",
   "execution_count": null,
   "id": "f4ed73d4-cc1d-40d4-918b-4b0e02ed9fec",
   "metadata": {},
   "outputs": [],
   "source": [
    "box = []\n",
    "box"
   ]
  },
  {
   "cell_type": "markdown",
   "id": "f28f10ea-8b32-4366-89ba-b1c65625dc92",
   "metadata": {},
   "source": [
    "Lists can have elements with the same data-type."
   ]
  },
  {
   "cell_type": "code",
   "execution_count": null,
   "id": "bc83805d-74af-498b-b580-b604a4b68253",
   "metadata": {},
   "outputs": [],
   "source": [
    "box = [5000, 10000]\n",
    "box"
   ]
  },
  {
   "cell_type": "markdown",
   "id": "b0b94430-bbe7-4a1b-975d-e2e9a14cc443",
   "metadata": {},
   "source": [
    "Or with different data-types."
   ]
  },
  {
   "cell_type": "code",
   "execution_count": null,
   "id": "5c32548a-e2f1-48a8-815a-5b33bc2b425d",
   "metadata": {},
   "outputs": [],
   "source": [
    "box = [5000, 'bill', 'watch', 10000, 'earbuds']\n",
    "box"
   ]
  },
  {
   "cell_type": "markdown",
   "id": "fc22abde-5009-4a0b-b1dc-4c2465ba2ebe",
   "metadata": {},
   "source": [
    "We can use `append` method to add an element to a list."
   ]
  },
  {
   "cell_type": "code",
   "execution_count": null,
   "id": "eee41292-f3eb-404f-be4a-60a79158d589",
   "metadata": {},
   "outputs": [],
   "source": [
    "box.append(20000)\n",
    "box"
   ]
  },
  {
   "cell_type": "markdown",
   "id": "41390a06-eff9-4a09-a4b5-a7e9dc8fe7ad",
   "metadata": {},
   "source": [
    "Even if such element is another collection."
   ]
  },
  {
   "cell_type": "code",
   "execution_count": null,
   "id": "0e7cf29a-4d11-42f8-9f3f-9b5dbea9e405",
   "metadata": {},
   "outputs": [],
   "source": [
    "box.append(['comb', 500])\n",
    "box"
   ]
  },
  {
   "cell_type": "markdown",
   "id": "bae636b5-3a13-46df-8291-bb063f825fd2",
   "metadata": {},
   "source": [
    "On the other hand, `insert` method allows us to add several elements from an iterable object to the list."
   ]
  },
  {
   "cell_type": "code",
   "execution_count": null,
   "id": "bda404f5-13b3-43c0-8473-15a92a902e5e",
   "metadata": {},
   "outputs": [],
   "source": [
    "box.insert(4,['brush', 'toothpaste', 200])\n",
    "box"
   ]
  },
  {
   "cell_type": "markdown",
   "id": "712df6b0-fbca-45bf-b845-235cb5e67e9a",
   "metadata": {},
   "source": [
    "We can `extend` a list as well."
   ]
  },
  {
   "cell_type": "code",
   "execution_count": null,
   "id": "565e399b-3da5-4d4b-8ead-eac350de8898",
   "metadata": {},
   "outputs": [],
   "source": [
    "box.extend(['more keys', 500])\n",
    "box"
   ]
  },
  {
   "cell_type": "markdown",
   "id": "1fa67350-9fd2-49e2-9def-15f13743baf5",
   "metadata": {},
   "source": [
    "Also, we can concatenate two lists."
   ]
  },
  {
   "cell_type": "code",
   "execution_count": null,
   "id": "e14544a5-b4e4-4ce4-80b5-ef7b4373e651",
   "metadata": {},
   "outputs": [],
   "source": [
    "box"
   ]
  },
  {
   "cell_type": "code",
   "execution_count": null,
   "id": "b3556ee1-98ce-4c51-b4e3-e7bc119e5aa7",
   "metadata": {},
   "outputs": [],
   "source": [
    "box + ['socks','shoes']"
   ]
  },
  {
   "cell_type": "code",
   "execution_count": null,
   "id": "0015480d-f40d-45f5-873e-e341ddc05506",
   "metadata": {},
   "outputs": [],
   "source": [
    "box"
   ]
  },
  {
   "cell_type": "markdown",
   "id": "4a3afa52-474e-40c3-bf49-50da692ca368",
   "metadata": {},
   "source": [
    "We can access list's elements through **indexing**."
   ]
  },
  {
   "cell_type": "code",
   "execution_count": null,
   "id": "fec1332e-833c-4dad-96dd-1340008bd31d",
   "metadata": {},
   "outputs": [],
   "source": [
    "box[0]"
   ]
  },
  {
   "cell_type": "code",
   "execution_count": null,
   "id": "2d7c4ba5-4a07-4eaf-a87b-a09aede5dcfd",
   "metadata": {},
   "outputs": [],
   "source": [
    "box[2]"
   ]
  },
  {
   "cell_type": "code",
   "execution_count": null,
   "id": "69e75126-f343-4e35-bded-0f24fbc35972",
   "metadata": {},
   "outputs": [],
   "source": [
    "box[7]"
   ]
  },
  {
   "cell_type": "code",
   "execution_count": null,
   "id": "a34d778a-ed7e-4aa0-ae62-ad344d1b21a3",
   "metadata": {},
   "outputs": [],
   "source": [
    "box[-1]"
   ]
  },
  {
   "cell_type": "markdown",
   "id": "a708b92e-e544-4b79-85bd-11c60c59ab28",
   "metadata": {},
   "source": [
    "We can access elements from inner lists."
   ]
  },
  {
   "cell_type": "code",
   "execution_count": null,
   "id": "dad70916-297b-49d4-a87a-96ed91cf8981",
   "metadata": {},
   "outputs": [],
   "source": [
    "box[4][0]"
   ]
  },
  {
   "cell_type": "code",
   "execution_count": null,
   "id": "582b1682-ca33-4978-921c-31c4009f7040",
   "metadata": {},
   "outputs": [],
   "source": [
    "box[4][-1]"
   ]
  },
  {
   "cell_type": "markdown",
   "id": "16ea5b79-0ecf-4669-8658-a8bfa8e368b6",
   "metadata": {},
   "source": [
    "In lists, we can do **slicing**, just like with strings."
   ]
  },
  {
   "cell_type": "code",
   "execution_count": null,
   "id": "6e25562e-44de-41e9-bddc-6f916e2eb59a",
   "metadata": {},
   "outputs": [],
   "source": [
    "box[0:3]"
   ]
  },
  {
   "cell_type": "code",
   "execution_count": null,
   "id": "855e41a0-f36d-4fa9-a920-6efa723b356e",
   "metadata": {},
   "outputs": [],
   "source": [
    "box[1:-2]"
   ]
  },
  {
   "cell_type": "code",
   "execution_count": null,
   "id": "ffbf03ce-b67e-4c36-95f9-a20aff2ea62e",
   "metadata": {},
   "outputs": [],
   "source": [
    "box[4:]"
   ]
  },
  {
   "cell_type": "code",
   "execution_count": null,
   "id": "61fed9e5-1a46-45c4-a4f3-e8a9d1fc86e2",
   "metadata": {},
   "outputs": [],
   "source": [
    "box[:5]"
   ]
  },
  {
   "cell_type": "code",
   "execution_count": null,
   "id": "f7aaaf8b-dccf-4697-adee-36421369e3f4",
   "metadata": {},
   "outputs": [],
   "source": [
    "box[1:-2:2]"
   ]
  },
  {
   "cell_type": "code",
   "execution_count": null,
   "id": "5f453793-84d5-4403-a58c-a24bd416fc46",
   "metadata": {},
   "outputs": [],
   "source": [
    "box[:]"
   ]
  },
  {
   "cell_type": "code",
   "execution_count": null,
   "id": "a7aedde1-1043-4b05-9d3a-4639c626f6b6",
   "metadata": {},
   "outputs": [],
   "source": [
    "box[::-1]"
   ]
  },
  {
   "cell_type": "markdown",
   "id": "29d9214d-8fb4-4b23-b9b2-a4a87bd4e070",
   "metadata": {},
   "source": [
    "We can even **multiply** lists."
   ]
  },
  {
   "cell_type": "code",
   "execution_count": null,
   "id": "afe49885-c1b2-43e7-8d64-9ffdd1c65080",
   "metadata": {},
   "outputs": [],
   "source": [
    "box[2:5] * 3"
   ]
  },
  {
   "cell_type": "markdown",
   "id": "121ca834-1a50-4ee5-93ae-8504433a4531",
   "metadata": {},
   "source": [
    "We can check if there are some elements in the list, using the operator **in**."
   ]
  },
  {
   "cell_type": "code",
   "execution_count": null,
   "id": "4604c91e-87fc-4897-b79f-ed81dcd735b7",
   "metadata": {},
   "outputs": [],
   "source": [
    "box"
   ]
  },
  {
   "cell_type": "code",
   "execution_count": null,
   "id": "c834aa3d-b69a-4282-bbe3-79254d9edae9",
   "metadata": {},
   "outputs": [],
   "source": [
    "'shoes' in box"
   ]
  },
  {
   "cell_type": "code",
   "execution_count": null,
   "id": "208de83b-d9cd-4a8a-8532-505d1bb8c96f",
   "metadata": {},
   "outputs": [],
   "source": [
    "'earrings' in box"
   ]
  },
  {
   "cell_type": "code",
   "execution_count": null,
   "id": "557ec512-1a1c-4e08-bd18-afe4ecb7588d",
   "metadata": {},
   "outputs": [],
   "source": [
    "'watch' in box"
   ]
  },
  {
   "cell_type": "code",
   "execution_count": null,
   "id": "66f91594-d408-4c2e-a366-41a0491dec11",
   "metadata": {},
   "outputs": [],
   "source": [
    "'comb' in box"
   ]
  },
  {
   "cell_type": "code",
   "execution_count": null,
   "id": "f3a40475-4abe-45ca-a47a-0fe7ed067013",
   "metadata": {},
   "outputs": [],
   "source": [
    "['comb', 500] in box"
   ]
  },
  {
   "cell_type": "code",
   "execution_count": null,
   "id": "f4eab144-3b70-4624-b7f0-a1aa48dd60ea",
   "metadata": {},
   "outputs": [],
   "source": [
    "'comb' in ['comb', 500]"
   ]
  },
  {
   "cell_type": "code",
   "execution_count": null,
   "id": "df461896-f632-4c8c-bc16-c110a015f076",
   "metadata": {},
   "outputs": [],
   "source": [
    "'comb' in box[-3]"
   ]
  },
  {
   "cell_type": "markdown",
   "id": "7f1c289b-e130-4cb1-a3a0-73375f7a279a",
   "metadata": {},
   "source": [
    "We can replace a list's element **in-place**."
   ]
  },
  {
   "cell_type": "code",
   "execution_count": null,
   "id": "8bfd7270-1232-4b4d-992b-ad15235b21ae",
   "metadata": {},
   "outputs": [],
   "source": [
    "box[1] = 'receipt'\n",
    "box"
   ]
  },
  {
   "cell_type": "markdown",
   "id": "89955715-277b-4975-ab33-222f8d7aa66e",
   "metadata": {},
   "source": [
    "We can \"pull\" an element from a list using `pop`."
   ]
  },
  {
   "cell_type": "code",
   "execution_count": null,
   "id": "25bdf3c5-1d20-461d-8979-99f3fce78d19",
   "metadata": {},
   "outputs": [],
   "source": [
    "print(box)\n",
    "print(box.pop(1))\n",
    "print(box)"
   ]
  },
  {
   "cell_type": "markdown",
   "id": "d37f778a-f454-4db2-8298-101ed5978b81",
   "metadata": {},
   "source": [
    "There are many methods and built-in functions which are applicable to lists. For example, we can get a **copy** of a list using the proper method."
   ]
  },
  {
   "cell_type": "code",
   "execution_count": null,
   "id": "9733bf6a-471b-4179-a540-ca4f6d3a1172",
   "metadata": {},
   "outputs": [],
   "source": [
    "another_box = box.copy()"
   ]
  },
  {
   "cell_type": "markdown",
   "id": "14bd4135-6f13-4f76-82c6-5ee3e6f7ae66",
   "metadata": {},
   "source": [
    "And, we can also **reverse** a list."
   ]
  },
  {
   "cell_type": "code",
   "execution_count": null,
   "id": "89b43f0b-fb75-4d4f-9650-5abedd87c817",
   "metadata": {},
   "outputs": [],
   "source": [
    "print(another_box)\n",
    "another_box.reverse()\n",
    "print(another_box)"
   ]
  },
  {
   "cell_type": "markdown",
   "id": "b8a6ac65-1562-49bb-aaad-62142a7a605c",
   "metadata": {},
   "source": [
    "As lists are mutable, we can **delete** or remove elements from them."
   ]
  },
  {
   "cell_type": "code",
   "execution_count": null,
   "id": "cc1005db-2766-411a-b315-3884fea5e7f8",
   "metadata": {},
   "outputs": [],
   "source": [
    "some_list = ['p', 'r', 'o', 'b', 'l', 'e', 'm']\n",
    "some_list.remove('p')\n",
    "some_list"
   ]
  },
  {
   "cell_type": "code",
   "execution_count": null,
   "id": "5ab03142-8b4d-4fd6-a7e9-793478195ca5",
   "metadata": {},
   "outputs": [],
   "source": [
    "print(some_list.pop(1))"
   ]
  },
  {
   "cell_type": "code",
   "execution_count": null,
   "id": "2b45fb2e-073c-4bf6-914b-9506afb22f20",
   "metadata": {},
   "outputs": [],
   "source": [
    "some_list"
   ]
  },
  {
   "cell_type": "code",
   "execution_count": null,
   "id": "b573abc5-6838-4fd1-8a11-5766dd756018",
   "metadata": {},
   "outputs": [],
   "source": [
    "some_list.pop()"
   ]
  },
  {
   "cell_type": "code",
   "execution_count": null,
   "id": "0e0e6a6a-55f3-43ce-b629-d981f2b010fd",
   "metadata": {},
   "outputs": [],
   "source": [
    "some_list"
   ]
  },
  {
   "cell_type": "code",
   "execution_count": null,
   "id": "3962837a-9bad-4942-924d-dee550543490",
   "metadata": {},
   "outputs": [],
   "source": [
    "del some_list[2]"
   ]
  },
  {
   "cell_type": "code",
   "execution_count": null,
   "id": "578c997c-1aed-43b1-b544-ce6b8e33de07",
   "metadata": {},
   "outputs": [],
   "source": [
    "some_list"
   ]
  },
  {
   "cell_type": "code",
   "execution_count": null,
   "id": "687e4097-e0c8-44d8-8b99-85f9212717c4",
   "metadata": {},
   "outputs": [],
   "source": [
    "del some_list[1:3]"
   ]
  },
  {
   "cell_type": "code",
   "execution_count": null,
   "id": "61c2906e-4b6b-4478-8853-fbd46e253a4b",
   "metadata": {},
   "outputs": [],
   "source": [
    "some_list"
   ]
  },
  {
   "cell_type": "code",
   "execution_count": null,
   "id": "dd2e0185-4604-4344-a693-91924a1e0505",
   "metadata": {},
   "outputs": [],
   "source": [
    "some_list.clear()"
   ]
  },
  {
   "cell_type": "code",
   "execution_count": null,
   "id": "5f5d13a3-7e12-4a90-b1c2-967f5a430a39",
   "metadata": {},
   "outputs": [],
   "source": [
    "some_list"
   ]
  },
  {
   "cell_type": "code",
   "execution_count": null,
   "id": "4189f72e-d877-4a3d-9331-0b12f4266f3a",
   "metadata": {},
   "outputs": [],
   "source": [
    "del some_list"
   ]
  },
  {
   "cell_type": "code",
   "execution_count": null,
   "id": "cf8ecdfe-4c51-4d6b-9f04-28f933b3f717",
   "metadata": {},
   "outputs": [],
   "source": [
    "some_list"
   ]
  },
  {
   "cell_type": "markdown",
   "id": "50afd42c-b288-4355-9e23-ae635f5e1701",
   "metadata": {},
   "source": [
    "We can discover many of these methods and functions in the **docs**: https://docs.python.org/3/tutorial/datastructures.html"
   ]
  },
  {
   "cell_type": "markdown",
   "id": "cfc0f510-c984-4889-bdd9-61dbb53e051a",
   "metadata": {},
   "source": [
    "## List Comprehension\n",
    "- **List comprehension** is a mechanism to create lists in a simplified and elegant way.\n",
    "- It consists of an expression followed by a `for` statement (and maybe a filter) inside square brackets."
   ]
  },
  {
   "cell_type": "code",
   "execution_count": null,
   "id": "87d6bf66-ff8d-44e6-a40f-49e9eb6de07e",
   "metadata": {},
   "outputs": [],
   "source": [
    "numbers = [i for i in range(10)]\n",
    "numbers"
   ]
  },
  {
   "cell_type": "code",
   "execution_count": null,
   "id": "12037be5-0d7a-4c3b-8b7d-549a20bf1993",
   "metadata": {},
   "outputs": [],
   "source": [
    "more_numbers = [i for i in range(20, 0, -2)]\n",
    "more_numbers"
   ]
  },
  {
   "cell_type": "code",
   "execution_count": null,
   "id": "8ee1e976-21fb-4aba-9586-bda5f5877431",
   "metadata": {},
   "outputs": [],
   "source": [
    "some_even_numbers = [i*2 for i in range(11)]\n",
    "some_even_numbers"
   ]
  },
  {
   "cell_type": "code",
   "execution_count": null,
   "id": "5364e492-c3b5-48f9-a94c-b16d1cc0ee89",
   "metadata": {},
   "outputs": [],
   "source": [
    "other_numbers = [i for i in range(1,31) if i%3 == 0]\n",
    "other_numbers"
   ]
  },
  {
   "cell_type": "code",
   "execution_count": null,
   "id": "62fef864-65d1-417a-9c1d-357aeef2391d",
   "metadata": {},
   "outputs": [],
   "source": [
    "brothers = [\"John\", \"Mark\", \"Jack\"]\n",
    "family = [n + \" Smith\" for n in brothers]\n",
    "family"
   ]
  },
  {
   "cell_type": "markdown",
   "id": "27989a85-3448-4026-916c-2d881e3552a6",
   "metadata": {},
   "source": [
    "<img src=\"images/collections_meme.jpg\" alt=\"Collections meme\" title=\"Collections meme\" />"
   ]
  },
  {
   "cell_type": "markdown",
   "id": "7678dc2d-e814-4a86-842e-669e0efad966",
   "metadata": {},
   "source": [
    "## Tuples\n",
    "- A **tuple** consists of a number of values separated by commas and enclosed in parentheses `( )`.\n",
    "- They are just like lists, but **immutable**. Therefore, once created, tuples cannot be changed.\n",
    "- Tuples have the same indexing, negative indexing and slicing behavior as lists.\n",
    "- Some built-in functions return tuples."
   ]
  },
  {
   "cell_type": "markdown",
   "id": "5b61ea00-f10a-43d9-a998-304989488a29",
   "metadata": {},
   "source": [
    "We can create tuples from scratch."
   ]
  },
  {
   "cell_type": "code",
   "execution_count": null,
   "id": "bfcb1150-0f4d-44d7-8a8c-40feaa2433cf",
   "metadata": {},
   "outputs": [],
   "source": [
    "my_tuple = ('Jonas', 'Tadei', 'Remco')\n",
    "my_tuple"
   ]
  },
  {
   "cell_type": "markdown",
   "id": "e5c15248-4017-4680-99f4-0867023166fa",
   "metadata": {},
   "source": [
    "Or from a list (among other ways)."
   ]
  },
  {
   "cell_type": "code",
   "execution_count": null,
   "id": "4899d43d-8ec1-4a94-a4b1-ffcb1ec293ac",
   "metadata": {},
   "outputs": [],
   "source": [
    "tuple_box = tuple(box)\n",
    "tuple_box"
   ]
  },
  {
   "cell_type": "code",
   "execution_count": null,
   "id": "21b187dd-d8c7-4aa3-b3ec-2355f0c5d62a",
   "metadata": {},
   "outputs": [],
   "source": [
    "other_tuple = tuple(range(10))\n",
    "other_tuple"
   ]
  },
  {
   "cell_type": "code",
   "execution_count": null,
   "id": "4e3fc834-a5fb-4033-a03e-b692c92e080d",
   "metadata": {},
   "outputs": [],
   "source": [
    "another_tuple = (1, 8.9, 'name', True, None)\n",
    "another_tuple"
   ]
  },
  {
   "cell_type": "markdown",
   "id": "4dfd0069-0a43-4e9a-b83d-e274d6489b29",
   "metadata": {},
   "source": [
    "Remember, tuples are **immutable**."
   ]
  },
  {
   "cell_type": "code",
   "execution_count": null,
   "id": "f5584f31-8f9f-4a00-b6b7-621df1ae61bc",
   "metadata": {},
   "outputs": [],
   "source": [
    "other_tuple[0] = 7"
   ]
  },
  {
   "cell_type": "code",
   "execution_count": null,
   "id": "9a4ffa66-7ef9-441f-a429-3357b33eb113",
   "metadata": {},
   "outputs": [],
   "source": [
    "another_tuple[-3] = 'surname'"
   ]
  },
  {
   "cell_type": "code",
   "execution_count": null,
   "id": "b0b3f2dc-749e-4ef5-8eb0-5feca1a5c169",
   "metadata": {},
   "outputs": [],
   "source": [
    "tuple_box[3][1] = 'token'"
   ]
  },
  {
   "cell_type": "code",
   "execution_count": null,
   "id": "02c62a4d-0b50-4bc5-9304-991ae231eacf",
   "metadata": {},
   "outputs": [],
   "source": [
    "tuple_box"
   ]
  },
  {
   "cell_type": "markdown",
   "id": "20bf28d4-2d94-45fc-a46f-7710c3d161c1",
   "metadata": {},
   "source": [
    "However, with tuples we can use many **built-in functions and methods** which are used with lists as well."
   ]
  },
  {
   "cell_type": "code",
   "execution_count": null,
   "id": "03f03c15-44e5-4531-8e53-04f1b0db1bc6",
   "metadata": {},
   "outputs": [],
   "source": [
    "another_tuple.count(8.9)"
   ]
  },
  {
   "cell_type": "code",
   "execution_count": null,
   "id": "8d4c52bc-3dd0-49a0-ba0b-245451d36e2e",
   "metadata": {},
   "outputs": [],
   "source": [
    "max(other_tuple)"
   ]
  },
  {
   "cell_type": "code",
   "execution_count": null,
   "id": "7281959d-a3f9-44a7-af57-6554a3f2e1f4",
   "metadata": {},
   "outputs": [],
   "source": [
    "sorted(other_tuple, reverse=True)"
   ]
  },
  {
   "cell_type": "markdown",
   "id": "66bb34ac-1f1c-4203-9a43-0978a7242e11",
   "metadata": {},
   "source": [
    "We can delete an entire tuple too."
   ]
  },
  {
   "cell_type": "code",
   "execution_count": null,
   "id": "1e454e3a-3a9f-47be-a639-9fade451b8de",
   "metadata": {},
   "outputs": [],
   "source": [
    "del another_tuple\n",
    "another_tuple"
   ]
  },
  {
   "cell_type": "markdown",
   "id": "3c994e91-16f9-4c91-a9d8-3646ef991b70",
   "metadata": {},
   "source": [
    "Just like with lists, we should check tuples **documentation**: https://docs.python.org/3/tutorial/datastructures.html#tuples-and-sequences"
   ]
  },
  {
   "cell_type": "markdown",
   "id": "2b492d5d-7825-4af6-b7e0-7bacac8d1680",
   "metadata": {},
   "source": [
    "## Tuples Unpacking\n",
    "- With tuples, it is very common to use **tuple unpacking**.\n",
    "- It can **simplify some operations** on data as it is generated in many toolboxes and frameworks."
   ]
  },
  {
   "cell_type": "code",
   "execution_count": null,
   "id": "c3333c9e-8c17-4458-9309-5bd4e38d388d",
   "metadata": {},
   "outputs": [],
   "source": [
    "points = ((2.7, 3.7, 'red'), (9, 5, 'blue'), (1, 5, 'green'), (3.7, 9.2, 'white'))"
   ]
  },
  {
   "cell_type": "code",
   "execution_count": null,
   "id": "a32f3b9a-133d-46c7-9cc0-aa7bf69ce9a4",
   "metadata": {},
   "outputs": [],
   "source": [
    "for x, y, color in points:\n",
    "    print(f\"The coordinate in X is {x}, the coordinate in Y is {y}, and its color is {color}.\")"
   ]
  },
  {
   "cell_type": "markdown",
   "id": "c659518e-a605-434d-ba4c-d2934b488355",
   "metadata": {},
   "source": [
    "<div class=\"alert alert-block alert-info\">\n",
    "<b>Did you know...</b> In Python, sets are unordered, meaning that the items inside a set do not maintain any specific order. However, they do have a unique feature: they automatically remove duplicates! So, if you try to add the same item multiple times to a set, it will only appear once.\n",
    "</div>"
   ]
  },
  {
   "cell_type": "markdown",
   "id": "d2d24633-5ba5-4d95-b668-118ed7d34751",
   "metadata": {},
   "source": [
    "## Sets\n",
    "- A **set** is a collection which is **unordered and unindexed**. In Python sets are defined using curly brackets `{ }`. There are only **unique** elements.\n",
    "- Sets support some **behavior** from sequences like lists, for example:\n",
    "  - Iterating through the set with `for...in` statements.\n",
    "  - Set membership test with `in` statement.\n",
    "  - deleting entire set with `del` statement.\n",
    "- Built-in functions like `all()`, `any()`, `enumerate()`, `len()`, `max()`, `min()`, `sorted()`, `sum()` etc., are commonly used with set to perform different tasks."
   ]
  },
  {
   "cell_type": "markdown",
   "id": "a31faacd-daea-4c02-9e5a-6f173c42bc91",
   "metadata": {},
   "source": [
    "So, we can create sets in different ways."
   ]
  },
  {
   "cell_type": "code",
   "execution_count": null,
   "id": "764a0fda-0728-483a-968e-afc06ffb650b",
   "metadata": {},
   "outputs": [],
   "source": [
    "one_set = {2, 7, 9, 3, 1}\n",
    "one_set"
   ]
  },
  {
   "cell_type": "code",
   "execution_count": null,
   "id": "95540fd3-2259-4891-9d45-7c1c2dbfa3ac",
   "metadata": {},
   "outputs": [],
   "source": [
    "another_set = {8, 9, 3, 'uncle', 'brother', (4.27, 8.21)}\n",
    "another_set"
   ]
  },
  {
   "cell_type": "code",
   "execution_count": null,
   "id": "23a8235f-2e1e-433d-9e48-4a882c73661e",
   "metadata": {},
   "outputs": [],
   "source": [
    "one_last_set = set(points)\n",
    "one_last_set"
   ]
  },
  {
   "cell_type": "markdown",
   "id": "55324908-5a69-48cb-b1ae-cefb76d68db4",
   "metadata": {},
   "source": [
    "Since they are unindexed, we (obviously?) cannot use indexing or slicing with them."
   ]
  },
  {
   "cell_type": "code",
   "execution_count": null,
   "id": "38252665-8c49-4227-9a39-2a721eab7b2c",
   "metadata": {},
   "outputs": [],
   "source": [
    "one_set[1]"
   ]
  },
  {
   "cell_type": "markdown",
   "id": "2807e020-75ef-4d92-b949-9b6eddee8ed3",
   "metadata": {},
   "source": [
    "But, we can use many **methods and built-in functions** as with other collections. Just check the **documentation**: https://docs.python.org/3/tutorial/datastructures.html#sets"
   ]
  },
  {
   "cell_type": "markdown",
   "id": "6a4ee06c-70ba-4c91-9908-49373abf9275",
   "metadata": {},
   "source": [
    "For instance, we can add elements"
   ]
  },
  {
   "cell_type": "code",
   "execution_count": null,
   "id": "fa0216df-8eaf-41f0-abd0-e3358719b331",
   "metadata": {},
   "outputs": [],
   "source": [
    "another_set.add('sister')\n",
    "another_set"
   ]
  },
  {
   "cell_type": "code",
   "execution_count": null,
   "id": "728a63f6-c5a0-4d28-a502-f4b4db19fa16",
   "metadata": {},
   "outputs": [],
   "source": [
    "another_set.update(['grandmother', 'grandfather'])\n",
    "another_set"
   ]
  },
  {
   "cell_type": "markdown",
   "id": "a3be0f51-f04e-4b85-ad63-47776fad5f56",
   "metadata": {},
   "source": [
    "And we can remove elements"
   ]
  },
  {
   "cell_type": "code",
   "execution_count": null,
   "id": "f8ff3f38-0936-4c5a-90eb-84c234705ff6",
   "metadata": {},
   "outputs": [],
   "source": [
    "another_set.discard('brother')\n",
    "another_set"
   ]
  },
  {
   "cell_type": "code",
   "execution_count": null,
   "id": "b51c1681-0ce7-4598-a5d0-5a3201f603ae",
   "metadata": {},
   "outputs": [],
   "source": [
    "another_set.remove(3)\n",
    "another_set"
   ]
  },
  {
   "cell_type": "code",
   "execution_count": null,
   "id": "63b1aa54-e42e-438f-8fa5-3c902159b3dc",
   "metadata": {},
   "outputs": [],
   "source": [
    "another_set.pop()\n",
    "another_set"
   ]
  },
  {
   "cell_type": "markdown",
   "id": "1475c1fb-0a30-44ad-9f88-c83d136a3d7c",
   "metadata": {},
   "source": [
    "We can iterate on sets as with other collections."
   ]
  },
  {
   "cell_type": "code",
   "execution_count": null,
   "id": "dae117f5-444b-4090-8453-33a0fc474a19",
   "metadata": {},
   "outputs": [],
   "source": [
    "for e in another_set:\n",
    "    print(e)"
   ]
  },
  {
   "cell_type": "markdown",
   "id": "c06d4f95-de46-4e35-b51f-9d1a81f3a6bf",
   "metadata": {},
   "source": [
    "Finally, among other things, we can perform some \"special\" **operations on sets**."
   ]
  },
  {
   "cell_type": "code",
   "execution_count": null,
   "id": "363248c1-051a-45b9-a74e-1eec01d93fa2",
   "metadata": {},
   "outputs": [],
   "source": [
    "set_a = {i for i in range(10)}\n",
    "set_a"
   ]
  },
  {
   "cell_type": "code",
   "execution_count": null,
   "id": "92da93f6-e8ed-4e23-8b2d-44f5c795ddcf",
   "metadata": {},
   "outputs": [],
   "source": [
    "set_b = {i*2 for i in range(10)}\n",
    "set_b"
   ]
  },
  {
   "cell_type": "markdown",
   "id": "cd94cca3-7e93-4ccb-8c7d-b9c40752a508",
   "metadata": {},
   "source": [
    "**Set Union**\n",
    "<br><img src=\"images/set_union.png\" alt=\"Set Union\" title=\"Set Union\" />"
   ]
  },
  {
   "cell_type": "code",
   "execution_count": null,
   "id": "c10c05d3-6f89-479c-873b-ab5ab21db326",
   "metadata": {},
   "outputs": [],
   "source": [
    "set_a.union(set_b)"
   ]
  },
  {
   "cell_type": "code",
   "execution_count": null,
   "id": "b2d6f217-9b83-46b7-97a7-57879686820a",
   "metadata": {},
   "outputs": [],
   "source": [
    "set_a | set_b"
   ]
  },
  {
   "cell_type": "markdown",
   "id": "252d0e5b-a2e2-4916-bdb6-8c21ec496919",
   "metadata": {},
   "source": [
    "**Set Intersection**\n",
    "<br><img src=\"images/set_intersection.png\" alt=\"Set Intersection\" title=\"Set Intersection\" />"
   ]
  },
  {
   "cell_type": "code",
   "execution_count": null,
   "id": "20b729de-9b8e-44e2-b7eb-88fee5771fab",
   "metadata": {},
   "outputs": [],
   "source": [
    "set_a.intersection(set_b)"
   ]
  },
  {
   "cell_type": "code",
   "execution_count": null,
   "id": "629c249b-1d1b-4be2-a01e-6f08e81adf7a",
   "metadata": {},
   "outputs": [],
   "source": [
    "set_a & set_b"
   ]
  },
  {
   "cell_type": "markdown",
   "id": "682448df-c691-454e-afd5-d05247e2be8d",
   "metadata": {},
   "source": [
    "**Set Difference**\n",
    "<br><img src=\"images/set_difference.png\" alt=\"Set Difference\" title=\"Set Difference\" />"
   ]
  },
  {
   "cell_type": "code",
   "execution_count": null,
   "id": "8b191774-ca5f-41a9-86a2-384d860b25c9",
   "metadata": {},
   "outputs": [],
   "source": [
    "set_a.difference(set_b)"
   ]
  },
  {
   "cell_type": "code",
   "execution_count": null,
   "id": "d96f9393-bedd-45c5-b665-66c83c605ba5",
   "metadata": {},
   "outputs": [],
   "source": [
    "set_a - set_b"
   ]
  },
  {
   "cell_type": "markdown",
   "id": "ddb1abc1-1d37-4697-91d8-907906d5eccb",
   "metadata": {},
   "source": [
    "**Set Symmetric Difference**\n",
    "<br><img src=\"images/set_symmetric_difference.png\" alt=\"Set Symmetric Difference\" title=\"Set Symmetric Difference\" />"
   ]
  },
  {
   "cell_type": "code",
   "execution_count": null,
   "id": "f60f8582-89ae-431d-9072-efd29ba45d3b",
   "metadata": {},
   "outputs": [],
   "source": [
    "set_a.symmetric_difference(set_b)"
   ]
  },
  {
   "cell_type": "code",
   "execution_count": null,
   "id": "cd269288-59b6-45e8-8105-8c09e80f8b4a",
   "metadata": {},
   "outputs": [],
   "source": [
    "set_a ^ set_b"
   ]
  },
  {
   "cell_type": "markdown",
   "id": "d2eeb748-b687-4909-a0b7-46d83756539f",
   "metadata": {},
   "source": [
    "Python features the **frozenset** collection, which is simply an immutable set without methods such as add or remove."
   ]
  },
  {
   "cell_type": "code",
   "execution_count": null,
   "id": "27b7d235-cca7-4bc9-ac4a-6a219d7d2dee",
   "metadata": {},
   "outputs": [],
   "source": [
    "fset_a = ([1, 2, 3, 4])\n",
    "fset_b = ([3, 4, 5, 6])"
   ]
  },
  {
   "cell_type": "code",
   "execution_count": null,
   "id": "35261cac-d342-4f3b-b847-a71b7da34148",
   "metadata": {},
   "outputs": [],
   "source": [
    "fset_a.isdisjoint(fset_b)"
   ]
  },
  {
   "cell_type": "code",
   "execution_count": null,
   "id": "52ecc349-b8d9-4169-8e49-e10ff55864d0",
   "metadata": {},
   "outputs": [],
   "source": [
    "fset_a.difference(fset_b)"
   ]
  },
  {
   "cell_type": "code",
   "execution_count": null,
   "id": "be99616c-3b2e-4fef-a382-838288123629",
   "metadata": {},
   "outputs": [],
   "source": [
    "fset_a | fset_b"
   ]
  },
  {
   "cell_type": "code",
   "execution_count": null,
   "id": "06634fe4-8fb6-4381-aef6-3b3310075d89",
   "metadata": {},
   "outputs": [],
   "source": [
    "f_set.add(5)"
   ]
  },
  {
   "cell_type": "markdown",
   "id": "6db4591b-3b66-4d0b-baf6-bceea53adef3",
   "metadata": {},
   "source": [
    "## Dictionary\n",
    "- A **dictionary** is an unordered collection of **key/value** pairs.\n",
    "- Each key maps to a value.\n",
    "- It is also called \"mapping\", \"hash table\" or \"lookup table\".\n",
    "- The key is:\n",
    "  - Usually an integer or a string.\n",
    "  - Should (must!) be an immutable object.\n",
    "- Any **key occurs at most once** in a dictionary.\n",
    "- The value may be any object: Values may occur many times."
   ]
  },
  {
   "cell_type": "markdown",
   "id": "be282f8a-4201-4167-b63e-5a001716b2ff",
   "metadata": {},
   "source": [
    "We can create a dictionary as follows."
   ]
  },
  {
   "cell_type": "code",
   "execution_count": null,
   "id": "1609ff1d-3e85-4335-89ee-24361fc54cfe",
   "metadata": {},
   "outputs": [],
   "source": [
    "companies = {1910: \"Ford\", 1920: \"Toyota\", 1930: \"VW\", 2005: \"Tesla\"}\n",
    "companies"
   ]
  },
  {
   "cell_type": "markdown",
   "id": "cfcfc84e-f772-4977-83e1-ba64b5bd09c4",
   "metadata": {},
   "source": [
    "However, we can create an empty dictionary, so it can be populated later."
   ]
  },
  {
   "cell_type": "code",
   "execution_count": null,
   "id": "4f9dedd2-2c06-4963-a9a8-429dbf1eacb5",
   "metadata": {},
   "outputs": [],
   "source": [
    "empty_dict = {}\n",
    "empty_dict"
   ]
  },
  {
   "cell_type": "markdown",
   "id": "dd015af1-60c9-44f7-865d-07cd22fc82b3",
   "metadata": {},
   "source": [
    "A dictionary can have mixed keys."
   ]
  },
  {
   "cell_type": "code",
   "execution_count": null,
   "id": "7170f7c3-7220-4d87-b4b1-cfe7382dbb19",
   "metadata": {},
   "outputs": [],
   "source": [
    "another_dict = {1: 'One way', 'two': 'Or another', 3: ['I\\'m', 'gonna', 'getcha']}\n",
    "another_dict"
   ]
  },
  {
   "cell_type": "markdown",
   "id": "84dd9719-a755-4d05-b4ec-e81ef6a14c97",
   "metadata": {},
   "source": [
    "And it can be created in several ways."
   ]
  },
  {
   "cell_type": "code",
   "execution_count": null,
   "id": "c0c37d69-92ae-4bbb-998d-9cd1e2dce085",
   "metadata": {},
   "outputs": [],
   "source": [
    "other_dict = dict([(1, 'one'), (2, 'two'), (3, 'three')])\n",
    "other_dict"
   ]
  },
  {
   "cell_type": "markdown",
   "id": "d1160cd6-2b38-45c2-921f-fc7bdf5509eb",
   "metadata": {},
   "source": [
    "We can access an element's value using its key."
   ]
  },
  {
   "cell_type": "code",
   "execution_count": null,
   "id": "f934f8dd-d322-4471-ad5a-ab3d6de1a3ab",
   "metadata": {},
   "outputs": [],
   "source": [
    "companies"
   ]
  },
  {
   "cell_type": "code",
   "execution_count": null,
   "id": "5087d616-71b9-47da-8ac7-a7e8628e7c8e",
   "metadata": {},
   "outputs": [],
   "source": [
    "companies[1910]"
   ]
  },
  {
   "cell_type": "code",
   "execution_count": null,
   "id": "6265fc38-e555-487d-9ab6-6886c754a9fa",
   "metadata": {},
   "outputs": [],
   "source": [
    "another_dict['two']"
   ]
  },
  {
   "cell_type": "markdown",
   "id": "11c2e133-25ae-4e43-a141-bb7a9370bcbf",
   "metadata": {},
   "source": [
    "But trying to access an unexisting key will throw an error."
   ]
  },
  {
   "cell_type": "code",
   "execution_count": null,
   "id": "47cc9a14-951b-4a5a-8cd9-704c53bbdd02",
   "metadata": {},
   "outputs": [],
   "source": [
    "another_dict['four']"
   ]
  },
  {
   "cell_type": "markdown",
   "id": "19faa555-2a2c-4230-be6a-16df53102b91",
   "metadata": {},
   "source": [
    "We can remove items from a dictionary as well. Firstly, we can remove a particular item."
   ]
  },
  {
   "cell_type": "code",
   "execution_count": null,
   "id": "52b6c249-6311-4d70-8e81-e6da31b44606",
   "metadata": {},
   "outputs": [],
   "source": [
    "companies"
   ]
  },
  {
   "cell_type": "code",
   "execution_count": null,
   "id": "a8848d42-fe28-4008-8ce2-7519978e4ba0",
   "metadata": {},
   "outputs": [],
   "source": [
    "companies.pop(1930)"
   ]
  },
  {
   "cell_type": "code",
   "execution_count": null,
   "id": "5f7804c7-9c9c-4e3e-8b50-1669cb9811c4",
   "metadata": {},
   "outputs": [],
   "source": [
    "companies"
   ]
  },
  {
   "cell_type": "code",
   "execution_count": null,
   "id": "2e10f3b1-4fbe-463f-9ab6-bb97e1cfb8b7",
   "metadata": {},
   "outputs": [],
   "source": [
    "del companies[2005]"
   ]
  },
  {
   "cell_type": "code",
   "execution_count": null,
   "id": "ec328365-2f03-43f5-8d0a-701ae0b5f360",
   "metadata": {},
   "outputs": [],
   "source": [
    "companies"
   ]
  },
  {
   "cell_type": "markdown",
   "id": "4425f859-1179-48fb-9aae-283d4cbbcb88",
   "metadata": {},
   "source": [
    "Also, we can remove an arbitrary item."
   ]
  },
  {
   "cell_type": "code",
   "execution_count": null,
   "id": "95a6301e-4fe4-429e-9338-e7ec8070a564",
   "metadata": {},
   "outputs": [],
   "source": [
    "companies.popitem()"
   ]
  },
  {
   "cell_type": "code",
   "execution_count": null,
   "id": "c6750d52-a792-4108-b621-0ad86f5e3530",
   "metadata": {},
   "outputs": [],
   "source": [
    "companies"
   ]
  },
  {
   "cell_type": "markdown",
   "id": "428e1e4e-16bc-4645-8aa1-fafa024728d0",
   "metadata": {},
   "source": [
    "We even can remove all the items."
   ]
  },
  {
   "cell_type": "code",
   "execution_count": null,
   "id": "84982c19-4f89-43a1-9dac-9237a8f63c61",
   "metadata": {},
   "outputs": [],
   "source": [
    "companies.clear()"
   ]
  },
  {
   "cell_type": "code",
   "execution_count": null,
   "id": "1ba7ba0a-cabb-4db9-8bee-8b6b9d6eb7c1",
   "metadata": {},
   "outputs": [],
   "source": [
    "companies"
   ]
  },
  {
   "cell_type": "code",
   "execution_count": null,
   "id": "a45b3b8d-d525-4a13-a062-a26fcafaa818",
   "metadata": {},
   "outputs": [],
   "source": [
    "del companies"
   ]
  },
  {
   "cell_type": "code",
   "execution_count": null,
   "id": "7c4cdc3c-db11-4204-bc22-5b82d6e28924",
   "metadata": {},
   "outputs": [],
   "source": [
    "companies"
   ]
  },
  {
   "cell_type": "markdown",
   "id": "dcc197fb-2196-4593-b73e-3bddb52971a0",
   "metadata": {},
   "source": [
    "As with other collections, we can perform **dictionary comprehension**."
   ]
  },
  {
   "cell_type": "code",
   "execution_count": null,
   "id": "e135f785-c1f7-44b5-ada5-07e88a1006eb",
   "metadata": {},
   "outputs": [],
   "source": [
    "squares = {x: x*x for x in range(6)}\n",
    "squares"
   ]
  },
  {
   "cell_type": "code",
   "execution_count": null,
   "id": "7abc0d1f-df7e-4988-9d58-93aae576e9e9",
   "metadata": {},
   "outputs": [],
   "source": [
    "odd_squares = {x: x*x for x in range(11) if x%2 == 1}\n",
    "odd_squares"
   ]
  },
  {
   "cell_type": "markdown",
   "id": "0c0574bd-2cf5-4e7f-b2d0-7557667100f7",
   "metadata": {},
   "source": [
    "And although it is not a common practice, we can iterate over dictionaries as well."
   ]
  },
  {
   "cell_type": "code",
   "execution_count": null,
   "id": "ef681d48-6bff-4fef-9e05-988766ebd6c2",
   "metadata": {},
   "outputs": [],
   "source": [
    "d = {'name': 'Vasyl', 'surname': 'Bilan','id': '1', 'task': 'run application'}"
   ]
  },
  {
   "cell_type": "code",
   "execution_count": null,
   "id": "3e1a83b3-4214-417f-aa39-f6e2fbb8d74c",
   "metadata": {},
   "outputs": [],
   "source": [
    "for key in d:\n",
    "    print('student {} = {}'.format(key, d[key]))"
   ]
  },
  {
   "cell_type": "code",
   "execution_count": null,
   "id": "d2fc562a-da89-4523-b8c4-d8211a477d74",
   "metadata": {},
   "outputs": [],
   "source": [
    "d.items()"
   ]
  },
  {
   "cell_type": "code",
   "execution_count": null,
   "id": "55f1fa76-3012-4937-858e-9fe044cc6781",
   "metadata": {},
   "outputs": [],
   "source": [
    "for key, val in d.items():\n",
    "    print('{} = {} .'.format(key, val))"
   ]
  },
  {
   "cell_type": "code",
   "execution_count": null,
   "id": "756221de-acd9-4da9-92f9-e0c3f072da88",
   "metadata": {},
   "outputs": [],
   "source": [
    "for key in d.keys():\n",
    "    print('student {} = {}'.format(key, d[key]))"
   ]
  },
  {
   "cell_type": "code",
   "execution_count": null,
   "id": "bccee29c-c2db-409c-8c2d-527cbac487ec",
   "metadata": {},
   "outputs": [],
   "source": [
    "for val in d.values():\n",
    "    print('student {} = {}'.format('?', val))"
   ]
  },
  {
   "cell_type": "markdown",
   "id": "67d2a0d3-26b7-42b0-a225-da5acee3f4c9",
   "metadata": {},
   "source": [
    "Dictionaries have many other possibilities through their built-in methods and functions: https://docs.python.org/3/tutorial/datastructures.html#dictionaries"
   ]
  },
  {
   "cell_type": "markdown",
   "id": "722fce06-4036-45a7-820b-e45d967fc665",
   "metadata": {},
   "source": [
    "<div class=\"alert alert-block alert-warning\">\n",
    "<b>Reflection Questions:</b>\n",
    "    <ul>\n",
    "        <li>How do you decide which collection type (e.g., list, tuple, set, dictionary) is best suited for a particular task?</li>\n",
    "        <li>How does the mutability of collections like lists and dictionaries affect their behavior compared to immutable collections like tuples?</li>\n",
    "        <li>Python collections provide advanced functionalities like list comprehensions, dictionary comprehensions, and set operations. How can you leverage these features to write more concise and efficient code? Can you give an example?</li>\n",
    "    </ul>\n",
    "</div>"
   ]
  },
  {
   "cell_type": "markdown",
   "id": "6c93a593-f146-4219-b629-3d4d9a610c8e",
   "metadata": {},
   "source": [
    "## Let's do a little exercise\n",
    "- Create a dictionary with the following key-value pairs: 'name': 'Alice', 'age': 30, 'city': 'New York'.\n",
    "- Add a new key-value pair 'job': 'Engineer'.\n",
    "- Print the value associated with the key 'age'.\n",
    "- Update the 'city' value to 'San Francisco' and print the updated dictionary."
   ]
  },
  {
   "cell_type": "code",
   "execution_count": null,
   "id": "99e02214-c994-47f2-b61f-8b533f1958e9",
   "metadata": {},
   "outputs": [],
   "source": []
  }
 ],
 "metadata": {
  "kernelspec": {
   "display_name": "Python 3 (ipykernel)",
   "language": "python",
   "name": "python3"
  },
  "language_info": {
   "codemirror_mode": {
    "name": "ipython",
    "version": 3
   },
   "file_extension": ".py",
   "mimetype": "text/x-python",
   "name": "python",
   "nbconvert_exporter": "python",
   "pygments_lexer": "ipython3",
   "version": "3.11.5"
  }
 },
 "nbformat": 4,
 "nbformat_minor": 5
}
