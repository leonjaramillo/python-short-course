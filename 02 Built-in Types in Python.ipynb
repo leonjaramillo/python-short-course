{
 "cells": [
  {
   "cell_type": "markdown",
   "id": "de4f8ca4-4efe-4490-8bf4-9da5a76ddaba",
   "metadata": {},
   "source": [
    "# Built-in Types in Python\n",
    "_Liubov Koliasa, León Jaramillo_ at __[SoftServe](https://www.softserveinc.com/en-us)__"
   ]
  },
  {
   "cell_type": "markdown",
   "id": "2430dbe7-7e6f-4ad2-b6f3-1f5a28ed01f5",
   "metadata": {},
   "source": [
    "## Learning Goals\n",
    "- To know which are Python basic data types.\n",
    "- To tell between mutable and immutable data types.\n",
    "- To go deeper into some basic aspects of the language.\n",
    "- To learn about strings in Python."
   ]
  },
  {
   "cell_type": "markdown",
   "id": "5e500593-e989-4d46-8a5d-07f805505218",
   "metadata": {},
   "source": [
    "## Python Data Types\n",
    "- It is important to remember (and understand) that variables in Python are really just **references to objects** in memory.\n",
    "- Python is a **dynamically typed** language (What does it mean?).\n",
    "- But, also, it is a **strongly typed** language (What does it mean?).\n",
    "- At this point, it is important to understand **immutability**.\n",
    "- Some built-in data types can be found here: https://www.w3schools.com/python/python_datatypes.asp"
   ]
  },
  {
   "cell_type": "markdown",
   "id": "0b618f5d-44eb-4c62-be68-9d95655a5170",
   "metadata": {},
   "source": [
    "The following table shows basic Python data types:\n",
    "| Category | Types |\n",
    "|----------|----------|\n",
    "| Numeric types | int, float, complex |\n",
    "| Boolean type | bool |\n",
    "| Sequence types | list, tuple, range |\n",
    "| Text sequence type | str |\n",
    "| Binary sequence types | bytes, bytearray, memoryview |\n",
    "| Set types | set, frozenset |\n",
    "| Mapping types | dict |\n",
    "| None type | NoneType |\n",
    "\n",
    "Which types above are mutable and which ones are immutable?"
   ]
  },
  {
   "cell_type": "code",
   "execution_count": null,
   "id": "7e6df5e4-27f0-4897-aa41-00bf987b1e47",
   "metadata": {},
   "outputs": [],
   "source": [
    "var = 45.8\n",
    "print(type(var))\n",
    "var = 'Hello'\n",
    "print(type(var))"
   ]
  },
  {
   "cell_type": "code",
   "execution_count": null,
   "id": "631a4f3c-92bd-41e5-87a8-316e4b44c341",
   "metadata": {},
   "outputs": [],
   "source": [
    "'Hello ' + 25"
   ]
  },
  {
   "cell_type": "code",
   "execution_count": null,
   "id": "dee7464b-af44-4b70-ad39-579813a4eb2d",
   "metadata": {},
   "outputs": [],
   "source": [
    "'Hello ' + str(25)"
   ]
  },
  {
   "cell_type": "code",
   "execution_count": null,
   "id": "fb9662e4-77ed-4909-b74a-17abae0ffe04",
   "metadata": {},
   "outputs": [],
   "source": [
    "#Here we have some variables' examples\n",
    "#While creating variables, literals determine their type\n",
    "\n",
    "a = 'Right here'\n",
    "b = '15'\n",
    "c = 4.5\n",
    "d = 3+5j\n",
    "e = ['Alpha','Beta','Gamma']\n",
    "f = ('Alpha','Beta','Gamma')\n",
    "g = {'Alpha','Beta','Gamma'}\n",
    "h = {1:'one', 2:'two'}\n",
    "i = True"
   ]
  },
  {
   "cell_type": "markdown",
   "id": "6a810c0d-d08e-4469-b1e9-54454236047e",
   "metadata": {},
   "source": [
    "Then, you can check their type using `type()` function"
   ]
  },
  {
   "cell_type": "code",
   "execution_count": null,
   "id": "1762681b-3327-479b-9261-7c89a8c5a8a1",
   "metadata": {},
   "outputs": [],
   "source": [
    "print(type(a))\n",
    "print(type(b))\n",
    "print(type(c))\n",
    "print(type(d))\n",
    "print(type(e))\n",
    "print(type(f))\n",
    "print(type(g))\n",
    "print(type(h))\n",
    "print(type(i))"
   ]
  },
  {
   "cell_type": "markdown",
   "id": "4dac8e16-d7e3-42a2-a1b8-948c6ee05bfe",
   "metadata": {},
   "source": [
    "And whether types are immutable"
   ]
  },
  {
   "cell_type": "code",
   "execution_count": null,
   "id": "a45456a4-9616-4de7-a3a8-54dd07a5486e",
   "metadata": {},
   "outputs": [],
   "source": [
    "x = 'foo'\n",
    "y = x\n",
    "print(x)\n",
    "y += 'bar'\n",
    "print(x)\n",
    "\n",
    "x = [1, 2, 3]\n",
    "y = x\n",
    "print(x)\n",
    "y += [3, 2, 1]\n",
    "print(x)"
   ]
  },
  {
   "cell_type": "markdown",
   "id": "a9d1154d-0f47-4ec4-a264-3dcf1f8808bd",
   "metadata": {},
   "source": [
    "You can check its immutability using `id()` function as well (why?)"
   ]
  },
  {
   "cell_type": "code",
   "execution_count": null,
   "id": "5a54e255-f741-44dd-9d5e-29d11cce430f",
   "metadata": {},
   "outputs": [],
   "source": [
    "x = 42\n",
    "y = x\n",
    "z = 42\n",
    " \n",
    "print(id(x))  \n",
    "print(id(y))\n",
    "print(id(z))\n",
    "\n",
    "x = 84\n",
    "\n",
    "print(id(x))  \n",
    "print(id(y))\n",
    "print(id(z))"
   ]
  },
  {
   "cell_type": "markdown",
   "id": "6d6275f1-0a15-4302-9ed2-65e7355ec4fe",
   "metadata": {},
   "source": [
    "Also, we can check the type of a variable using `is` operator"
   ]
  },
  {
   "cell_type": "code",
   "execution_count": null,
   "id": "1087f704-b0a9-4dd5-80ac-843aa3714491",
   "metadata": {},
   "outputs": [],
   "source": [
    "x=25\n",
    "print(type(x) is int)\n",
    "print(type(x) is float)\n",
    "\n",
    "print(type({}) is dict)\n",
    "print(type([]) is list)\n",
    "print(type(0) is list)"
   ]
  },
  {
   "cell_type": "markdown",
   "id": "07e21eeb-c658-4835-905f-1452987c3ec2",
   "metadata": {},
   "source": [
    "Finally, we can perform **conversions** between different built-in **datatypes**."
   ]
  },
  {
   "cell_type": "code",
   "execution_count": null,
   "id": "a9958e23-1e41-47cf-944a-4cca666b62c7",
   "metadata": {},
   "outputs": [],
   "source": [
    "str_width = '254'\n",
    "print(str_width)\n",
    "print(type(str_width))\n",
    "width = int(str_width)\n",
    "print(width)\n",
    "print(type(width))"
   ]
  },
  {
   "cell_type": "code",
   "execution_count": null,
   "id": "3e426bec-4a8c-44e4-954a-2012ad31120d",
   "metadata": {},
   "outputs": [],
   "source": [
    "str_width = '254'\n",
    "print(str_width)\n",
    "print(type(str_width))\n",
    "width = float(str_width)\n",
    "print(width)\n",
    "print(type(width))"
   ]
  },
  {
   "cell_type": "code",
   "execution_count": null,
   "id": "b8c4dc88-4879-4d09-9411-8d48658b24f7",
   "metadata": {},
   "outputs": [],
   "source": [
    "str_width = '780.75'\n",
    "print(str_width)\n",
    "print(type(str_width))\n",
    "width = float(str_width)\n",
    "print(width)\n",
    "print(type(width))"
   ]
  },
  {
   "cell_type": "code",
   "execution_count": null,
   "id": "41bd25e5-d42f-4f94-8e25-bba5ea80de5b",
   "metadata": {},
   "outputs": [],
   "source": [
    "str_width = '780.75'\n",
    "print(str_width)\n",
    "print(type(str_width))\n",
    "width = int(str_width)\n",
    "print(width)\n",
    "print(type(width))"
   ]
  },
  {
   "cell_type": "markdown",
   "id": "abc2abf9-74c5-4e76-9dcd-5599be3b33d0",
   "metadata": {},
   "source": [
    "<div class=\"alert alert-block alert-info\">\n",
    "<b>Did you know...</b> In Python, the bool type is actually a subclass of the int type! This means True and False are essentially integers, with True equal to 1 and False equal to 0.\n",
    "</div>"
   ]
  },
  {
   "cell_type": "markdown",
   "id": "e4b40641-5742-4405-8df7-5e20ad632185",
   "metadata": {},
   "source": [
    "Python features many functions to support conversions like the above.\n",
    "| Function | Description |\n",
    "|----------|----------|\n",
    "| `int(x [,base])` | Converts `x` to an integer. `base` specifies the base if `x` is a string. |\n",
    "| `long(x [,base])` | Converts `x` to a long integer. `base` specifies the base if `x` is a string. |\n",
    "| `float(x)` | Converts `x` to a floating-point number. |\n",
    "| `complex(real[,imag])` | Creates a complex number. |\n",
    "| `str(x)` | Converts object `x` to a string representation. |\n",
    "| `repr(x)` | Converts object `x` to an expression string. |\n",
    "| `eval(str)` | Evaluates a string and returns an object. |\n",
    "| `tuple(s)` | Converts `s` to a tuple. |\n",
    "| `list(s)` | Converts `s` to a list. |\n",
    "| `set(s)` | Converts `s` to a set. |\n",
    "| `dict(d)` | Creates a dictionary. `d` must be a sequence of (key,value) tuples. |\n",
    "| `frozenset(s)` | Converts `s` to a frozen set. |\n",
    "| `chr(x)` | Converts an integer to a character. |\n",
    "| `unichr(x)` | Converts an integer to a Unicode character. |\n",
    "| `ord(x)` | Converts a single character to its integer value. |\n",
    "| `hex(x)` | Converts an integer to a hexadecimal string. |\n",
    "| `oct(x)` | Converts an integer to an octal string. |"
   ]
  },
  {
   "cell_type": "markdown",
   "id": "68d0a92f-f40f-4cf5-90fc-607f55b06eda",
   "metadata": {},
   "source": [
    "## Naming Variables in Python\n",
    "There are several naming conventions in programming:\n",
    "- Snake case: `name_of_variable`\n",
    "- Camel case: `nameOfVariable`\n",
    "- Kebab case: `name-of-variable`\n",
    "\n",
    "It is common to use snake case in Python."
   ]
  },
  {
   "cell_type": "markdown",
   "id": "95611cd7-7a40-4284-9159-53d090a87bfa",
   "metadata": {},
   "source": [
    "## Python Constants\n",
    "In Python, a constant is a variable whose value **should not be changed**. However, actually, it **can be changed**.\n",
    "<br>By convention, constant names are written in all capital letters."
   ]
  },
  {
   "cell_type": "code",
   "execution_count": null,
   "id": "0d7b77da-45e7-4f56-aa87-da02d85a6b5e",
   "metadata": {},
   "outputs": [],
   "source": [
    "COMPANY = 'SoftServe'\n",
    "print(COMPANY)\n",
    "COMPANY = 'Universities'\n",
    "print(COMPANY)"
   ]
  },
  {
   "cell_type": "code",
   "execution_count": null,
   "id": "c717259e-5373-458d-81d7-a7b833aec14a",
   "metadata": {},
   "outputs": [],
   "source": [
    "COMPANY_NAME = 'SoftServe'"
   ]
  },
  {
   "cell_type": "markdown",
   "id": "7f73d1c0-32da-43f8-9324-1aa973f21d82",
   "metadata": {},
   "source": [
    "## Python Literals\n",
    "**Literal** is raw data given in a variable, a constant, or directly hard-coded. In Python, there are various types of literals.\n",
    "<br>**Numeric literals** can be integer, float, and complex."
   ]
  },
  {
   "cell_type": "code",
   "execution_count": null,
   "id": "f6b2e17b-8eb5-4281-ac3f-debeb5b88955",
   "metadata": {},
   "outputs": [],
   "source": [
    "a = 0b1010 #binary literal\n",
    "b = 100 #decimal literal\n",
    "c = 0o310 #octal literal\n",
    "d = 0x12c #hexadecimal literal\n",
    "\n",
    "e = 10.5 #float literal\n",
    "f = 1.05e-2 #float literal\n",
    "\n",
    "g = 3.14j #complex literal\n",
    "\n",
    "print(a, type(a))\n",
    "print(b)\n",
    "print(c)\n",
    "print(d, type(d))\n",
    "print(e)\n",
    "print(f)\n",
    "print(g, g.imag, g.real, type(g))"
   ]
  },
  {
   "cell_type": "code",
   "execution_count": null,
   "id": "89929d62-c0c3-4502-b936-e326e0ef729b",
   "metadata": {},
   "outputs": [],
   "source": [
    "#boolean literals\n",
    "h = True\n",
    "i = (1 == True)\n",
    "j = (1 == False)\n",
    "k = True + 4\n",
    "l = False + 10\n",
    "\n",
    "print('h is ', h)\n",
    "print('i is ', i)\n",
    "print('j is ', j)\n",
    "print('k is ', k)\n",
    "print('l is ', l)"
   ]
  },
  {
   "cell_type": "code",
   "execution_count": null,
   "id": "a77da7cb-764e-429e-8c7b-4c747f30b4a4",
   "metadata": {},
   "outputs": [],
   "source": [
    "#special literal\n",
    "m = None\n",
    "print(m)\n",
    "print(type(m))"
   ]
  },
  {
   "cell_type": "code",
   "execution_count": null,
   "id": "d5e2ae74-6fa1-4917-85ed-a4ee60cff2e8",
   "metadata": {},
   "outputs": [],
   "source": [
    "#string literals\n",
    "one_string = 'With single quotes'\n",
    "other_string = \"With double quotes\"\n",
    "print(one_string)\n",
    "print(other_string)"
   ]
  },
  {
   "cell_type": "code",
   "execution_count": null,
   "id": "ac66adf6-583e-4a0d-a432-f8b6bbb821ca",
   "metadata": {},
   "outputs": [],
   "source": [
    "one_string"
   ]
  },
  {
   "cell_type": "code",
   "execution_count": null,
   "id": "0791c25e-21f7-49b8-b8e1-1e4bba83f91b",
   "metadata": {},
   "outputs": [],
   "source": [
    "other_string"
   ]
  },
  {
   "cell_type": "markdown",
   "id": "9c5894ce-021c-49ec-91e2-48013ac8dc89",
   "metadata": {},
   "source": [
    "**Collections** also have their own literals."
   ]
  },
  {
   "cell_type": "code",
   "execution_count": null,
   "id": "972e2d03-7e98-4ec2-8fd2-57567ce21846",
   "metadata": {},
   "outputs": [],
   "source": [
    "fruits = ['apple', 'mango', 'orange'] #list\n",
    "ages = (18, 21, 25) #tuple\n",
    "companies = {'AAPL': 'Apple',\n",
    "             'NVDA': 'Nvidia',\n",
    "             'GOOGL': 'Alphabet Inc.'} #dictionary\n",
    "vowels = {'a', 'e', 'i', 'o', 'u'}\n",
    "\n",
    "print(fruits)\n",
    "print(ages)\n",
    "print(companies)\n",
    "print(vowels)"
   ]
  },
  {
   "cell_type": "markdown",
   "id": "2a502f45-d928-4966-8a22-56592b76d084",
   "metadata": {},
   "source": [
    "## Python Statements\n",
    "- In Python, **statements** are instructions executed by the interpreter.\n",
    "- There are different **types of statements**, for instance, assignment statements.\n",
    "- A statement typically extends over a single line of code, but we can do it over multiple lines using the **line continuation** character (`\\`).\n",
    "- In Python, line continuation is implied inside parentheses `( )`, brackets `[ ]` and braces `{ }`.\n",
    "- We can put multiple statements in a single line of code using semicolons `;`, though this is a bad practice."
   ]
  },
  {
   "cell_type": "code",
   "execution_count": null,
   "id": "30c4d459-a41d-47c3-843f-8059d9f4d2d1",
   "metadata": {},
   "outputs": [],
   "source": [
    "a = 1 + 2 + 3 + \\\n",
    "    4 + 5 + 6 + \\\n",
    "    7 + 8 + 9\n",
    "a"
   ]
  },
  {
   "cell_type": "code",
   "execution_count": null,
   "id": "d6e350f8-d21d-4bb5-a10a-fd2c7521787f",
   "metadata": {},
   "outputs": [],
   "source": [
    "a = 1 + 2 + 3 +\n",
    "    4 + 5 + 6 +\n",
    "    7 + 8 + 9"
   ]
  },
  {
   "cell_type": "code",
   "execution_count": null,
   "id": "a4822e3f-f7c5-44e0-834b-664dd69d472d",
   "metadata": {},
   "outputs": [],
   "source": [
    "a = (1 + 2 + 3 +\n",
    "    4 + 5 + 6 +\n",
    "    7 + 8 + 9)\n",
    "a"
   ]
  },
  {
   "cell_type": "markdown",
   "id": "2b98ef98-2725-4eed-8256-34e3d52d6592",
   "metadata": {},
   "source": [
    "## Python Indentation\n",
    "- In Python, code **blocks** are the body of a class, a function, a loop, a conditional statement, and similar language constructions.\n",
    "- a code block start with its indentation and finishes just before the first unindented line of code bellow.\n",
    "- PEP 8 recommends **four spaces** per indentation level.\n",
    "- Incorrect indentation will result into `IndentationError`."
   ]
  },
  {
   "cell_type": "code",
   "execution_count": null,
   "id": "73f6cb6d-a746-4c74-aad2-5cdf1698c4c1",
   "metadata": {},
   "outputs": [],
   "source": [
    "for i in range(10):\n",
    "    print(i)\n",
    "    print(i*2)"
   ]
  },
  {
   "cell_type": "code",
   "execution_count": null,
   "id": "59aa7f17-9602-415f-800e-e836ff19cba7",
   "metadata": {},
   "outputs": [],
   "source": [
    "for i in range(10):\n",
    "    print(i)\n",
    "print(i*2)"
   ]
  },
  {
   "cell_type": "code",
   "execution_count": null,
   "id": "b1c1c67a-0f44-45ea-9b4b-9e47c6cb0579",
   "metadata": {},
   "outputs": [],
   "source": [
    "for i in range(3):\n",
    "    for j in range(2):\n",
    "        print(i*j)\n",
    "        print('Iteración interna completada')\n",
    "    print('Iteración externa completada')\n",
    "print('Fin de todos los ciclos')"
   ]
  },
  {
   "cell_type": "markdown",
   "id": "c7746b27-e691-43d1-8133-2200b4e76ffa",
   "metadata": {},
   "source": [
    "## Strings in Python\n",
    "- In Python, **strings** are character sequences enclosed in quotes (`''` or `\"\"`).\n",
    "- String is an **iterable** type.\r",
    "- String is an **immutable** type.\n",
    "- Triple quotes allows us to write **multiple lines** (via dosctrings)."
   ]
  },
  {
   "cell_type": "code",
   "execution_count": null,
   "id": "b602e59c-2856-44e9-a47b-1a4b101e623d",
   "metadata": {},
   "outputs": [],
   "source": [
    "my_text = 'This is a string'\n",
    "print(my_text)\n",
    "my_character = 'f'\n",
    "print(my_character)\n",
    "my_other_text = '''This is a\n",
    "a longer text\n",
    "in multiple lines'''\n",
    "print(my_other_text)\n",
    "text_with_escape = 'This text\\nincludes escape\\nsequences'\n",
    "print(text_with_escape)"
   ]
  },
  {
   "cell_type": "markdown",
   "id": "8787a91f-552b-487a-b9ee-98150b43b32e",
   "metadata": {},
   "source": [
    "We have several escape sequences like the ones shown above:\r\n",
    "- `\\n` new line\r\n",
    "- `\\r` start of line\r\n",
    "- `\\t` tabulation\r\n",
    "- `\\'` apostrophe\r\n",
    "- `\\\"` quotation mark\r\n",
    "- `\\\\` backslash"
   ]
  },
  {
   "cell_type": "markdown",
   "id": "3ee33f14-a4fa-4779-b703-f497292f4d47",
   "metadata": {},
   "source": [
    "Sometimes, we need to format strings. Python features many ways to do it. We have some examples below."
   ]
  },
  {
   "cell_type": "code",
   "execution_count": null,
   "id": "a8a33427-7fe2-45e2-bcc2-b71defd28377",
   "metadata": {},
   "outputs": [],
   "source": [
    "#Default (implicit) order\n",
    "default_order = \"{}, {} and {}\".format('John','Bill','Sean')\n",
    "print(default_order)\n",
    "#Ordering with positional arguments\n",
    "positional_order = \"{1}, {0} and {2}\".format('John','Bill','Sean')\n",
    "print(positional_order)\n",
    "#Ordering with keyword arguments\n",
    "keyword_order = \"{s}, {b} and {j}\".format(j='John',b='Bill',s='Sean')\n",
    "print(keyword_order)\n",
    "#Formatting integers\n",
    "print(\"Binary representation of {0} is {0:b}\".format(12))\n",
    "#Formatting floats\n",
    "print(\"Exponent representation: {0:e}\".format(1566.345))\n",
    "#Round off\n",
    "print(\"One third is: {0:.3f}\".format(1/3))"
   ]
  },
  {
   "cell_type": "markdown",
   "id": "8acf9c19-255d-4d5f-9ab1-d8c0830645cc",
   "metadata": {},
   "source": [
    "In some cases **f-strings** can be very useful. This is one of several ways to format strings."
   ]
  },
  {
   "cell_type": "code",
   "execution_count": null,
   "id": "a2db68c5-e075-49a3-a10f-536fe4e54bb0",
   "metadata": {},
   "outputs": [],
   "source": [
    "a = 'John'\n",
    "b = 'Bill'\n",
    "c = 'Sean'\n",
    "default_order = f'Hello {a}, {b} and {c}'\n",
    "print(default_order)\n",
    "print(f'Hello {a}, {b} and {c}')"
   ]
  },
  {
   "cell_type": "markdown",
   "id": "ad470d96-41a2-47b1-a770-a38da2086711",
   "metadata": {},
   "source": [
    "We can access characters in a string using **indexing** or **slicing**."
   ]
  },
  {
   "cell_type": "code",
   "execution_count": null,
   "id": "30211a95-a947-4774-a6be-df1102fd7580",
   "metadata": {},
   "outputs": [],
   "source": [
    "str = 'Dubrovnik is a city'\n",
    "print('str = ', str)\n",
    "#first character\n",
    "print('str[0] = ', str[0])\n",
    "#last character\n",
    "print('str[-1] = ', str[-1])\n",
    "#slicing 2nd to 5th character\n",
    "print('str[1:5] = ', str[1:5])\n",
    "#slicing 6th to 2nd last character\n",
    "print('str[5:-2] = ', str[5:-2])"
   ]
  },
  {
   "cell_type": "markdown",
   "id": "35fb37d7-6c89-42ff-8b41-847d7c6ef35e",
   "metadata": {},
   "source": [
    "Additionally, strings have many built-in **methods**: https://docs.python.org/3/library/stdtypes.html#str"
   ]
  },
  {
   "cell_type": "code",
   "execution_count": null,
   "id": "133e978b-6794-4f8c-ab33-da79d45ddfc1",
   "metadata": {},
   "outputs": [],
   "source": [
    "print('Hello to everyone'.split())"
   ]
  },
  {
   "cell_type": "code",
   "execution_count": null,
   "id": "496eee2b-534a-4f00-9416-9b3c779433ec",
   "metadata": {},
   "outputs": [],
   "source": [
    "print('Hello to everyone'.split('o'))"
   ]
  },
  {
   "cell_type": "code",
   "execution_count": null,
   "id": "0a2b91ab-83d7-4a21-a8c3-1849127ea579",
   "metadata": {},
   "outputs": [],
   "source": [
    "a = 'e'\n",
    "print('Hello to everyone'.split(a))"
   ]
  },
  {
   "cell_type": "markdown",
   "id": "c25368a2-01ec-47d0-b667-5fd639d7814e",
   "metadata": {},
   "source": [
    "<div class=\"alert alert-block alert-warning\">\n",
    "<b>Reflection Questions:</b>\n",
    "    <ul>\n",
    "        <li>How would you decide which built-in type to use for storing and manipulating data in a specific scenario?</li>\n",
    "        <li>When and why might you need to convert one built-in type to another?</li>\n",
    "        <li>How do the characteristics of immutable types and mutable types affect their performance and suitability for different tasks in Python?</li>\n",
    "    </ul>\n",
    "</div>"
   ]
  },
  {
   "cell_type": "code",
   "execution_count": null,
   "id": "6a7b8f09-df7e-465b-a6c4-63b659d012d6",
   "metadata": {},
   "outputs": [],
   "source": []
  }
 ],
 "metadata": {
  "kernelspec": {
   "display_name": "Python 3 (ipykernel)",
   "language": "python",
   "name": "python3"
  },
  "language_info": {
   "codemirror_mode": {
    "name": "ipython",
    "version": 3
   },
   "file_extension": ".py",
   "mimetype": "text/x-python",
   "name": "python",
   "nbconvert_exporter": "python",
   "pygments_lexer": "ipython3",
   "version": "3.11.5"
  }
 },
 "nbformat": 4,
 "nbformat_minor": 5
}
