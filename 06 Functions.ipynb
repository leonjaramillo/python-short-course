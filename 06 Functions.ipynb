{
 "cells": [
  {
   "cell_type": "markdown",
   "id": "a219851c-cace-4dd9-a339-088d9b195c75",
   "metadata": {},
   "source": [
    "# Functions in Python\n",
    "_Liubov Koliasa, León Jaramillo_ at __[SoftServe](https://www.softserveinc.com/en-us)__"
   ]
  },
  {
   "cell_type": "markdown",
   "id": "a28b4179-60d7-45d0-a832-67d20e32eaef",
   "metadata": {},
   "source": [
    "## Learning Goals\n",
    "- To learn what are **functions** and what are they used for.\n",
    "- To introduce different types of function arguments.\n",
    "- To see how do recursive functions look like.\n",
    "- To introduce anonymous functions."
   ]
  },
  {
   "cell_type": "markdown",
   "id": "aa578a5a-f46f-43cd-a0f4-4a9c85cd9b66",
   "metadata": {},
   "source": [
    "- A **function** is a block of organized, reusable code that is used to perform a single, related action.\n",
    "- Functions provide better **modularity** for your application and a high degree of **code reusing**.\n",
    "- As you already know, Python gives you many **built-in functions** like `print()`, etc., but you can also create your own functions. These functions are called **user-defined functions**."
   ]
  },
  {
   "cell_type": "markdown",
   "id": "798ce729-58c5-40d0-8198-852417b373b6",
   "metadata": {},
   "source": [
    "## Defining a Function\n",
    "- Function **blocks** begin with the keyword `def` followed by the function name and parentheses `()`.\n",
    "- Any input **parameters** should be placed within these parentheses.\n",
    "- The first statement of a function can be the documentation string of the function or **docstring**, and it is an **optional** statement.\n",
    "- The code block within every function starts with a colon `:` and is **indented**.\n",
    "- The statement `return [expression]` **exits a function**, optionally passing back an expression to the caller. A return statement with no arguments is the same as `return None`."
   ]
  },
  {
   "cell_type": "markdown",
   "id": "7730069a-7213-446e-bac2-9163ef9316d2",
   "metadata": {},
   "source": [
    "`def function_name(parameters):`\n",
    "<br>`    \"\"\"docstring\"\"\"`\n",
    "<br>`    statement(s)`\n",
    "<br>`    [return expression_list]`\n",
    "\n",
    "Let's see some examples. Firstly, we'll define a very simple function."
   ]
  },
  {
   "cell_type": "code",
   "execution_count": 3,
   "id": "e2aa48f3-0417-4a9f-8869-f76360b94bb7",
   "metadata": {},
   "outputs": [],
   "source": [
    "def print_message():\n",
    "    print('This is a message')"
   ]
  },
  {
   "cell_type": "markdown",
   "id": "a09dc1c1-e330-4dda-b44c-bb08ad00f6a4",
   "metadata": {},
   "source": [
    "Then, we can call it. Please note that it has no **parameters**, so we provide it no **arguments**."
   ]
  },
  {
   "cell_type": "code",
   "execution_count": null,
   "id": "37b0b1ab-680e-410a-89d0-2a2190ea9b97",
   "metadata": {},
   "outputs": [],
   "source": [
    "print_message()"
   ]
  },
  {
   "cell_type": "markdown",
   "id": "379bddef-2dac-4341-a2fb-6fe7f05cdd53",
   "metadata": {},
   "source": [
    "We can define functions with one or more parameters, as follows."
   ]
  },
  {
   "cell_type": "code",
   "execution_count": null,
   "id": "f81d7d93-35a5-4106-b34a-c1574f10a53f",
   "metadata": {},
   "outputs": [],
   "source": [
    "def print_greeting(name):\n",
    "    print(f'Hello, {name}, how are you?')"
   ]
  },
  {
   "cell_type": "markdown",
   "id": "4bbc45d0-ba74-4a14-a1d5-aaabcb37520c",
   "metadata": {},
   "source": [
    "And call them accordingly."
   ]
  },
  {
   "cell_type": "code",
   "execution_count": null,
   "id": "268b8936-b630-4fca-99c7-1df7ca41bf2d",
   "metadata": {},
   "outputs": [],
   "source": [
    "print_greeting('Daniel')"
   ]
  },
  {
   "cell_type": "code",
   "execution_count": null,
   "id": "6c2b19e4-c64d-4d61-9229-620b719f0715",
   "metadata": {},
   "outputs": [],
   "source": [
    "type(print_greeting('Daniel'))"
   ]
  },
  {
   "cell_type": "markdown",
   "id": "83c6b8f3-47b7-4b29-9979-10a6ecddf86f",
   "metadata": {},
   "source": [
    "When dealing with multiple parameters, they should be separated by **commas**. Please note the **docstring** bellow, which may explain the functions purpose."
   ]
  },
  {
   "cell_type": "code",
   "execution_count": null,
   "id": "1f07cd67-3f2d-4714-8667-d90dd4576ebd",
   "metadata": {},
   "outputs": [],
   "source": [
    "def print_greeting(name, surname):\n",
    "    '''This function prints a greeting (obviously)\n",
    "    Receives as arguments a person's name and surname'''\n",
    "    print(f'Hi, {name} {surname}, how are you?')"
   ]
  },
  {
   "cell_type": "markdown",
   "id": "86566302-1bdb-433c-9122-0f77dd4310ff",
   "metadata": {},
   "source": [
    "We can call the function above accordingly."
   ]
  },
  {
   "cell_type": "code",
   "execution_count": null,
   "id": "939c1bcc-ee56-4294-9c97-47fcbef938c9",
   "metadata": {},
   "outputs": [],
   "source": [
    "print_greeting('Daniel','Martínez')"
   ]
  },
  {
   "cell_type": "markdown",
   "id": "b7154ea6-dcc9-456b-9e0e-b493efa636f6",
   "metadata": {},
   "source": [
    "And we can get access to its docstring using `__doc__`."
   ]
  },
  {
   "cell_type": "code",
   "execution_count": null,
   "id": "0a302979-3547-4827-95f1-39bafc4df7e4",
   "metadata": {},
   "outputs": [],
   "source": [
    "print_greeting.__doc__"
   ]
  },
  {
   "cell_type": "code",
   "execution_count": null,
   "id": "593e5ca6-5102-40fd-95fd-97eefbd53615",
   "metadata": {},
   "outputs": [],
   "source": [
    "print.__doc__"
   ]
  },
  {
   "cell_type": "markdown",
   "id": "20540c34-f383-4e97-b907-35c452174303",
   "metadata": {},
   "source": [
    "- The **return** statement is used to exit a function and go back to the place from where it was called.\n",
    "- This statement can contain an **expression** which gets evaluated and the value is **returned**\n",
    "- If there is no expression in the return statement or the return statement itself is not present inside a function, then the function will return a `None` object."
   ]
  },
  {
   "cell_type": "code",
   "execution_count": null,
   "id": "504afee7-439a-49d7-a8b8-9b37d10728e9",
   "metadata": {},
   "outputs": [],
   "source": [
    "def get_greeting(name, surname):\n",
    "    '''This function returns a greeting (obviously)\n",
    "    Receives as arguments a person's name and surname'''\n",
    "    return f'Hi, {name} {surname}, how are you?'"
   ]
  },
  {
   "cell_type": "markdown",
   "id": "2dfa6e9b-a79b-4636-9f19-fd7c5e256672",
   "metadata": {},
   "source": [
    "The function above **returns** a string with the greeting. However, it does not print it.\n",
    "<br>Afterwards, we may assign its value to a variable or to do whatever we want with it."
   ]
  },
  {
   "cell_type": "code",
   "execution_count": null,
   "id": "549d21bb-47f6-4f4b-adbe-450413104310",
   "metadata": {},
   "outputs": [],
   "source": [
    "print(get_greeting('Santiago','Buitrago'))"
   ]
  },
  {
   "cell_type": "code",
   "execution_count": null,
   "id": "3d161462-9768-4681-91bd-efae2f859371",
   "metadata": {},
   "outputs": [],
   "source": [
    "type(get_greeting('Santiago','Buitrago'))"
   ]
  },
  {
   "cell_type": "code",
   "execution_count": null,
   "id": "2d1a9d1b-86f1-4123-b41b-98b61952370c",
   "metadata": {},
   "outputs": [],
   "source": [
    "my_greeting = get_greeting('Fernando','Gaviria')"
   ]
  },
  {
   "cell_type": "code",
   "execution_count": null,
   "id": "93b112bf-3091-411b-a629-21e0a60f4351",
   "metadata": {},
   "outputs": [],
   "source": [
    "print(my_greeting)"
   ]
  },
  {
   "cell_type": "code",
   "execution_count": null,
   "id": "909e1923-782e-42c2-96ad-47e49391af1d",
   "metadata": {},
   "outputs": [],
   "source": [
    "def print_and_greet(name):\n",
    "    print(f'Hi {name}, inside the function')\n",
    "    return f'Hi {name}, outside the function'"
   ]
  },
  {
   "cell_type": "code",
   "execution_count": null,
   "id": "bbd565ec-eeda-4133-a3e0-f91a4fe201e5",
   "metadata": {},
   "outputs": [],
   "source": [
    "print_and_greet('Jonas')"
   ]
  },
  {
   "cell_type": "code",
   "execution_count": null,
   "id": "6dd71e8a-186a-425f-8ac2-bb2addc0cae9",
   "metadata": {},
   "outputs": [],
   "source": [
    "print(print_and_greet('Jonas'))"
   ]
  },
  {
   "cell_type": "markdown",
   "id": "88796052-a568-493c-b17f-b38e4da2eadd",
   "metadata": {},
   "source": [
    "## Some Types of Function Arguments\n",
    "Calling a function using a proper number of arguments will work smoothly. However, using a different number of arguments, will make compiler complain. So, to make things flexible, we count on several kinds of arguments.\n",
    "- **Required arguments:** As their type name suggests you should always provide such arguments when calling the respective function.\n",
    "- **Default arguments:** Since these arguments have a respective default value, you don't need to provide them a value every time.\n",
    "- **Keyword arguments:** These ones allow us to call functions altering the arguments' order.\n",
    "- **Variable-length arguments:** This feature allows us to specify an arbitrary number of arguments."
   ]
  },
  {
   "cell_type": "markdown",
   "id": "a63687b6-03e3-4e12-8383-679444b03f0a",
   "metadata": {},
   "source": [
    "We should consider that when we miss providing a **required argument** (they'll always be **positional arguments**), we'll get an error."
   ]
  },
  {
   "cell_type": "code",
   "execution_count": null,
   "id": "c2bbccee-b379-42be-8854-6ff541341d8b",
   "metadata": {},
   "outputs": [],
   "source": [
    "get_greeting()"
   ]
  },
  {
   "cell_type": "code",
   "execution_count": null,
   "id": "d9e16db0-3b56-49e6-a135-1ec2c1d0f568",
   "metadata": {},
   "outputs": [],
   "source": [
    "get_greeting('Santiago')"
   ]
  },
  {
   "cell_type": "markdown",
   "id": "c6870c41-5e9d-43d4-8153-36ad2b1324a3",
   "metadata": {},
   "source": [
    "So, we can assign a **default value** to an argument. Be sure not to specify default arguments before non-default ones."
   ]
  },
  {
   "cell_type": "code",
   "execution_count": null,
   "id": "2a630e13-ae3f-46da-ae32-c88e7651cc92",
   "metadata": {},
   "outputs": [],
   "source": [
    "def get_greeting(name, surname, greeting='Hello'):\n",
    "    return f'{greeting}, {name} {surname}, how are you?'"
   ]
  },
  {
   "cell_type": "code",
   "execution_count": null,
   "id": "a02f23c1-9e6a-45ed-906a-b37a29ef62ea",
   "metadata": {},
   "outputs": [],
   "source": [
    "get_greeting('Daniel', 'Jaramillo')"
   ]
  },
  {
   "cell_type": "code",
   "execution_count": null,
   "id": "f5ddf928-4951-4541-b70d-f012bd9e2745",
   "metadata": {},
   "outputs": [],
   "source": [
    "get_greeting('Daniel', 'Jaramillo','Hi')"
   ]
  },
  {
   "cell_type": "markdown",
   "id": "9a36761b-f144-49b3-a3d7-22ebd3127ddd",
   "metadata": {},
   "source": [
    "We can alter the order of the arguments being passed to the function (using the so-called **keyword arguments**)."
   ]
  },
  {
   "cell_type": "code",
   "execution_count": null,
   "id": "084ebd4a-37c1-4be0-b3b4-03e080644db2",
   "metadata": {},
   "outputs": [],
   "source": [
    "def print_greeting(name, surname):\n",
    "    print(f'Hi, {name} {surname}, how are you?')"
   ]
  },
  {
   "cell_type": "code",
   "execution_count": null,
   "id": "2adab89d-a2d4-444a-ae4c-def2c0700e76",
   "metadata": {},
   "outputs": [],
   "source": [
    "print_greeting('John', 'Travolta')"
   ]
  },
  {
   "cell_type": "code",
   "execution_count": null,
   "id": "88955d09-eb7a-41ae-8b51-37f1a994bc82",
   "metadata": {},
   "outputs": [],
   "source": [
    "print_greeting(name='John', surname='Travolta')"
   ]
  },
  {
   "cell_type": "code",
   "execution_count": null,
   "id": "432ab08f-8f7d-4fa9-b479-01c71a28ed9c",
   "metadata": {},
   "outputs": [],
   "source": [
    "print_greeting(surname='Travolta', name='John')"
   ]
  },
  {
   "cell_type": "code",
   "execution_count": null,
   "id": "5d891ef2-a46d-4cb5-9e09-c906b949f7a8",
   "metadata": {},
   "outputs": [],
   "source": [
    "print_greeting('John', surname='Travolta')"
   ]
  },
  {
   "cell_type": "code",
   "execution_count": null,
   "id": "db90a80e-91d0-4eb6-8a60-1e5901b6c8f6",
   "metadata": {},
   "outputs": [],
   "source": [
    "print_greeting(name='John', 'Travolta')"
   ]
  },
  {
   "cell_type": "markdown",
   "id": "68c74e08-41b2-41cb-97f6-495453887e00",
   "metadata": {},
   "source": [
    "In the function definition we use an asterisk (*) before the parameter name to denote **arbitrary number of arguments**."
   ]
  },
  {
   "cell_type": "code",
   "execution_count": null,
   "id": "9c3c2b82-afd8-42d6-b692-827fdb09577b",
   "metadata": {},
   "outputs": [],
   "source": [
    "def greet_people(*names):\n",
    "    for name in names:\n",
    "        print(f'Good morning, {name}!')"
   ]
  },
  {
   "cell_type": "code",
   "execution_count": null,
   "id": "9436eaae-bbe0-439c-a5e2-7fa89eef6a27",
   "metadata": {},
   "outputs": [],
   "source": [
    "greet_people('Hugo','Paco','Luis','Donald')"
   ]
  },
  {
   "cell_type": "code",
   "execution_count": null,
   "id": "003b3452-1bcc-44ef-ba67-c4237971ca60",
   "metadata": {},
   "outputs": [],
   "source": [
    "def i_greet_people(who_greets, *names):\n",
    "    for name in names:\n",
    "        print(f'I\\'m {who_greets}, hi {name}!.')"
   ]
  },
  {
   "cell_type": "code",
   "execution_count": null,
   "id": "3faef459-4997-4940-a7de-a0d1d316d93a",
   "metadata": {},
   "outputs": [],
   "source": [
    "i_greet_people('León','Andrew','Sarah','Anne','Fido')"
   ]
  },
  {
   "cell_type": "markdown",
   "id": "b0fafbed-0603-42b2-b66b-feeeccf8f451",
   "metadata": {},
   "source": [
    "- Now that we are aware of functions, we need to understand the scope of variables.\n",
    "- The **scope** of a variable determines whether it is visible or not in a given portion of the program.\n",
    "- A variable's visibility determines if we can access and/or modify it."
   ]
  },
  {
   "cell_type": "markdown",
   "id": "8341f3d7-4a90-40b5-8e29-a8662480d299",
   "metadata": {},
   "source": [
    "- Being parameters or whether defined inside a function, **local variables** are visible only from inside such function.\n",
    "- If defined outside of a given function, **global variables** are visible from within such function.\n",
    "- A variable's **lifetime** depends on its scope as well.\n",
    "- Lifetime of a variable is the period throughout which the variable exists in memory. For instance, the lifetime of local variables inside a function is as long as the **function is executing**.\n",
    "- They are destroyed once we return from the function. Hence, a function does not remember the value of a variable from its previous calls."
   ]
  },
  {
   "cell_type": "code",
   "execution_count": null,
   "id": "389f6153-4369-43b0-ba2b-5271d4ad36a3",
   "metadata": {},
   "outputs": [],
   "source": [
    "def scope_func():\n",
    "    x = 10\n",
    "    print('Value inside function:', x)\n",
    "x = 20\n",
    "scope_func()\n",
    "print('Value outside function:', x)"
   ]
  },
  {
   "cell_type": "markdown",
   "id": "2087ab33-b5ae-4dd4-9573-3cd2540a3833",
   "metadata": {},
   "source": [
    "We can use `global` keyword to modify a global variable from a local scope."
   ]
  },
  {
   "cell_type": "code",
   "execution_count": null,
   "id": "a09525f7-3e1e-467b-9eb3-7f4e5d6367f4",
   "metadata": {},
   "outputs": [],
   "source": [
    "num = 5\n",
    "\n",
    "def a_funcion():\n",
    "    num += 2\n",
    "\n",
    "a_funcion()\n",
    "print(num)"
   ]
  },
  {
   "cell_type": "code",
   "execution_count": null,
   "id": "be80b358-c772-4fab-812c-14e2b14056ae",
   "metadata": {},
   "outputs": [],
   "source": [
    "num = 5\n",
    "\n",
    "def a_funcion():\n",
    "    global num\n",
    "    num += 2\n",
    "\n",
    "a_funcion()\n",
    "print(num)"
   ]
  },
  {
   "cell_type": "markdown",
   "id": "70bd79b8-f493-4f37-89d0-517dbbd3f2ca",
   "metadata": {},
   "source": [
    "- **Nonlocal variables** are used in a nested function whose local scope is not defined. This means the variable can be neither in the local nor the global scope.\n",
    "- Use the `nonlocal` keyword to create a nonlocal variable."
   ]
  },
  {
   "cell_type": "code",
   "execution_count": null,
   "id": "d4c0d62e-076b-4edb-9463-157c1713a1b7",
   "metadata": {},
   "outputs": [],
   "source": [
    "def external_function():\n",
    "    name = 'Martha'\n",
    "\n",
    "    def internal_function():\n",
    "        name = 'María'\n",
    "        print(name)\n",
    "\n",
    "    internal_function()\n",
    "    print(name)\n",
    "\n",
    "external_function()"
   ]
  },
  {
   "cell_type": "code",
   "execution_count": null,
   "id": "2aae0631-7191-417c-b520-45648403e27a",
   "metadata": {},
   "outputs": [],
   "source": [
    "def external_function():\n",
    "    name = 'Martha'\n",
    "\n",
    "    def internal_function():\n",
    "        nonlocal name\n",
    "        name = 'María'\n",
    "        print(name)\n",
    "\n",
    "    internal_function()\n",
    "    print(name)\n",
    "\n",
    "external_function()"
   ]
  },
  {
   "cell_type": "markdown",
   "id": "cbdd7e09-ed87-4ae8-a899-45fea110b0a1",
   "metadata": {},
   "source": [
    "## The `global` keyword\n",
    "In Python, the `global` keyword allows you to modify the variable outside of the current scope. It is used to create a global variable and make changes to the variable in a local context.\n",
    "- When we create a variable inside a function, it is local by default.\n",
    "- When we define a variable outside of a function, it is global by default. You do not have to use the `global` keyword.\n",
    "- We use the `global` keyword to read and write a global variable inside a function.\n",
    "- Using `global` keyword outside a function has no effect."
   ]
  },
  {
   "cell_type": "code",
   "execution_count": null,
   "id": "d7b5a323-12d4-49f9-9d03-60ab019dbadf",
   "metadata": {},
   "outputs": [],
   "source": [
    "a = 2\n",
    "\n",
    "def add():\n",
    "    print(a)\n",
    "\n",
    "add()"
   ]
  },
  {
   "cell_type": "code",
   "execution_count": null,
   "id": "25a75ef7-f70a-4550-9dea-08a906b0d1e4",
   "metadata": {},
   "outputs": [],
   "source": [
    "b = 2\n",
    "\n",
    "def add():\n",
    "    b = b + 4\n",
    "    print(b)\n",
    "\n",
    "add()"
   ]
  },
  {
   "cell_type": "code",
   "execution_count": null,
   "id": "6eb59564-f71f-4ede-adfe-7a4b7159c407",
   "metadata": {},
   "outputs": [],
   "source": [
    "c = 2\n",
    "\n",
    "def add():\n",
    "    global c\n",
    "    c = c + 4\n",
    "    print('Inside', c)\n",
    "\n",
    "add()\n",
    "print('Outside', c)"
   ]
  },
  {
   "cell_type": "markdown",
   "id": "8925bfc2-1a2b-42c6-ab3a-068c911d19d2",
   "metadata": {},
   "source": [
    "## Recursive Functions\n",
    "- There are **iterative algorithms**, which make use of loops and state-changing variables to perform their tasks.\n",
    "- On the other hand, there are **recursive algorithms**, which are defined in terms of themselves.\n",
    "- **Recursive functions** are an elegant way to solve some problems. Moreover, they're quite popular in functional programming.\n",
    "- Both of them have their pros and cons."
   ]
  },
  {
   "cell_type": "code",
   "execution_count": null,
   "id": "c8dff316-068e-45a6-8790-9f1b2badb220",
   "metadata": {},
   "outputs": [],
   "source": [
    "def iterative_factorial(n):\n",
    "    result = 1\n",
    "    for i in range(1, n+1):\n",
    "        result *= i\n",
    "    return result\n",
    "\n",
    "iterative_factorial(5)"
   ]
  },
  {
   "cell_type": "code",
   "execution_count": null,
   "id": "e5f0f3fd-697a-45ee-a12d-bd67f34d027d",
   "metadata": {},
   "outputs": [],
   "source": [
    "def recursive_factorial(n):\n",
    "    if n == 1:\n",
    "        return 1\n",
    "    else:\n",
    "        return n * recursive_factorial(n-1)\n",
    "\n",
    "recursive_factorial(5)"
   ]
  },
  {
   "cell_type": "markdown",
   "id": "60676731-f335-4fc3-84c6-4350a6728781",
   "metadata": {},
   "source": [
    "### Advantages of Recursion\n",
    "- Recursive functions make the code look clean and elegant.\n",
    "- A complex task can be broken down into simpler sub-problems using recursion.\n",
    "- Sequence generation is easier with recursion than using some nested iteration.\n",
    "- Some solutions can be written more naturally using recursion.\n",
    "### Disadvantages of Recursion\n",
    "- Sometimes the logic behind recursion is hard to follow through.\n",
    "- Recursive calls are expensive (inefficient) as they take up a lot of memory and time.\n",
    "- Recursive functions are hard to debug."
   ]
  },
  {
   "cell_type": "markdown",
   "id": "4528b652-03e7-4756-b272-05913cf65616",
   "metadata": {},
   "source": [
    "<div class=\"alert alert-block alert-info\">\n",
    "<b>Did you know...</b> In Python, functions are first-class citizens, meaning they can be passed around as arguments, returned from other functions, and assigned to variables just like any other object! This allows for powerful techniques like higher-order functions and function composition.\n",
    "</div>"
   ]
  },
  {
   "cell_type": "markdown",
   "id": "76fd503e-2f87-40d9-8578-6ebe7e63ebf6",
   "metadata": {},
   "source": [
    "## Anonymous Functions and Lambda Functions\n",
    "- An **anonymous function** is a function that is defined without a name.\n",
    "- While normal functions are defined using the `def` keyword and a name, in Python anonymous functions are defined using the `lambda` keyword.\n",
    "- Lambda functions can have any number of arguments but only **one expression**. The expression is **evaluated** and returned.\n",
    "- Lambda functions can be used wherever function objects are required."
   ]
  },
  {
   "cell_type": "markdown",
   "id": "cd3e8c57-e418-4b08-a9c0-9c5461e25a77",
   "metadata": {},
   "source": [
    "The following function is defined as usual."
   ]
  },
  {
   "cell_type": "code",
   "execution_count": null,
   "id": "c4ac2382-d687-4952-8960-0d70509d9f2c",
   "metadata": {},
   "outputs": [],
   "source": [
    "def area(height, width):\n",
    "    return height*width"
   ]
  },
  {
   "cell_type": "code",
   "execution_count": null,
   "id": "f7d15207-ea4d-4ce4-8e0c-1f2ad1061b75",
   "metadata": {},
   "outputs": [],
   "source": [
    "area(5,6)"
   ]
  },
  {
   "cell_type": "markdown",
   "id": "ea182676-d179-4cac-aa65-8727f3f21fa4",
   "metadata": {},
   "source": [
    "The following one, is the same function, but defined as a lambda one."
   ]
  },
  {
   "cell_type": "code",
   "execution_count": null,
   "id": "3e761b29-29a2-4210-b683-a25cd792bdca",
   "metadata": {},
   "outputs": [],
   "source": [
    "lambda height, width : height*width"
   ]
  },
  {
   "cell_type": "markdown",
   "id": "8ef4697b-e954-4107-ae75-d3ac6f9e6fb6",
   "metadata": {},
   "source": [
    "And bellow, it's assigned to a variable."
   ]
  },
  {
   "cell_type": "code",
   "execution_count": null,
   "id": "1db8bc32-b137-4eed-aa14-f0e210a11e01",
   "metadata": {},
   "outputs": [],
   "source": [
    "area_var = lambda height, width : height*width"
   ]
  },
  {
   "cell_type": "code",
   "execution_count": null,
   "id": "4210b435-4b8a-4b0c-a4b0-6d209faf0297",
   "metadata": {},
   "outputs": [],
   "source": [
    "area_var(5,6)"
   ]
  },
  {
   "cell_type": "markdown",
   "id": "def0b401-8645-4afe-b332-ce5a6b79c372",
   "metadata": {},
   "source": [
    "However, lambda functions are more useful when we use them with methods such as `map` or `filter`, as follows."
   ]
  },
  {
   "cell_type": "code",
   "execution_count": null,
   "id": "7b9b7c3e-8093-4baf-9bfa-3e63747b3bb5",
   "metadata": {},
   "outputs": [],
   "source": [
    "sides = [7, 3, 5, 10]"
   ]
  },
  {
   "cell_type": "code",
   "execution_count": null,
   "id": "8faf595b-9786-4a52-8d70-1b6599272f74",
   "metadata": {},
   "outputs": [],
   "source": [
    "sides"
   ]
  },
  {
   "cell_type": "code",
   "execution_count": null,
   "id": "df6d9834-809a-4f8f-be55-aa10507c4f26",
   "metadata": {},
   "outputs": [],
   "source": [
    "areas = list(map(lambda side : side**2, sides))"
   ]
  },
  {
   "cell_type": "code",
   "execution_count": null,
   "id": "5d43e017-4851-4467-8793-d72a89d34199",
   "metadata": {},
   "outputs": [],
   "source": [
    "areas"
   ]
  },
  {
   "cell_type": "code",
   "execution_count": null,
   "id": "d252d3e7-8533-491a-a228-ccfb98ed20c2",
   "metadata": {},
   "outputs": [],
   "source": [
    "odd_sides = list(filter(lambda i : i % 2 != 0, sides))"
   ]
  },
  {
   "cell_type": "code",
   "execution_count": null,
   "id": "2076883b-4794-4f50-aa32-acb5982a5ac3",
   "metadata": {},
   "outputs": [],
   "source": [
    "odd_sides"
   ]
  },
  {
   "cell_type": "markdown",
   "id": "2a5964ef-7082-4fa8-ad1e-c243ff9898f5",
   "metadata": {},
   "source": [
    "<div class=\"alert alert-block alert-warning\">\n",
    "<b>Reflection Questions:</b>\n",
    "    <ul>\n",
    "        <li>How do you decide when to create a new function in your code? What factors influence your decision to break a problem into smaller, reusable functions?</li>\n",
    "        <li>How does variable scope (local, global, and nonlocal) affect the behavior of your functions? What steps can you take to minimize unintended side effects in your code?</li>\n",
    "        <li>What is the difference between positional, keyword, and default arguments in Python functions? How can you use these effectively to make your functions more flexible and user-friendly?</li>\n",
    "    </ul>\n",
    "</div>"
   ]
  },
  {
   "cell_type": "markdown",
   "id": "d588fd4f-67cc-423e-bf88-a0bded2672a3",
   "metadata": {},
   "source": [
    "## Let's do a little exercise\n",
    "Write a function called greet_multiple that takes a list of names and prints a greeting for each name in the list (e.g., ['Alice', 'Bob', 'Charlie'])."
   ]
  },
  {
   "cell_type": "code",
   "execution_count": null,
   "id": "1cbe16c8-4a3d-4445-89b7-42845311a685",
   "metadata": {},
   "outputs": [],
   "source": []
  }
 ],
 "metadata": {
  "kernelspec": {
   "display_name": "Python 3 (ipykernel)",
   "language": "python",
   "name": "python3"
  },
  "language_info": {
   "codemirror_mode": {
    "name": "ipython",
    "version": 3
   },
   "file_extension": ".py",
   "mimetype": "text/x-python",
   "name": "python",
   "nbconvert_exporter": "python",
   "pygments_lexer": "ipython3",
   "version": "3.11.5"
  }
 },
 "nbformat": 4,
 "nbformat_minor": 5
}
